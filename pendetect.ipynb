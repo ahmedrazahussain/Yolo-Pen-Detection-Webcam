{
 "cells": [
  {
   "cell_type": "code",
   "execution_count": 7,
   "id": "e1c0c8f8-d0a3-4a2a-86d3-c188dbebe8ba",
   "metadata": {},
   "outputs": [
    {
     "name": "stderr",
     "output_type": "stream",
     "text": [
      "<>:5: SyntaxWarning: invalid escape sequence '\\o'\n",
      "<>:5: SyntaxWarning: invalid escape sequence '\\o'\n",
      "C:\\Users\\TEMP.DESKTOP-DQOQJ3V\\AppData\\Local\\Temp\\ipykernel_9176\\148323373.py:5: SyntaxWarning: invalid escape sequence '\\o'\n",
      "  model.train(data = 'H:\\obdt\\pen-dataset\\data.yaml',\n"
     ]
    },
    {
     "name": "stdout",
     "output_type": "stream",
     "text": [
      "New https://pypi.org/project/ultralytics/8.3.131 available  Update with 'pip install -U ultralytics'\n",
      "Ultralytics 8.3.109  Python-3.12.9 torch-2.6.0+cpu CPU (Intel Pentium Silver J5005 1.50GHz)\n",
      "\u001b[34m\u001b[1mengine\\trainer: \u001b[0mtask=detect, mode=train, model=yolov8s.pt, data=H:\\obdt\\pen-dataset\\data.yaml, epochs=20, time=None, patience=100, batch=8, imgsz=640, save=True, save_period=-1, cache=False, device=None, workers=8, project=None, name=train2, exist_ok=False, pretrained=True, optimizer=auto, verbose=True, seed=0, deterministic=True, single_cls=False, rect=False, cos_lr=False, close_mosaic=10, resume=False, amp=True, fraction=1.0, profile=False, freeze=None, multi_scale=False, overlap_mask=True, mask_ratio=4, dropout=0.0, val=True, split=val, save_json=False, conf=None, iou=0.7, max_det=300, half=False, dnn=False, plots=True, source=None, vid_stride=1, stream_buffer=False, visualize=False, augment=False, agnostic_nms=False, classes=None, retina_masks=False, embed=None, show=False, save_frames=False, save_txt=False, save_conf=False, save_crop=False, show_labels=True, show_conf=True, show_boxes=True, line_width=None, format=torchscript, keras=False, optimize=False, int8=False, dynamic=False, simplify=True, opset=None, workspace=None, nms=False, lr0=0.01, lrf=0.01, momentum=0.937, weight_decay=0.0005, warmup_epochs=3.0, warmup_momentum=0.8, warmup_bias_lr=0.1, box=7.5, cls=0.5, dfl=1.5, pose=12.0, kobj=1.0, nbs=64, hsv_h=0.015, hsv_s=0.7, hsv_v=0.4, degrees=0.0, translate=0.1, scale=0.5, shear=0.0, perspective=0.0, flipud=0.0, fliplr=0.5, bgr=0.0, mosaic=1.0, mixup=0.0, copy_paste=0.0, copy_paste_mode=flip, auto_augment=randaugment, erasing=0.4, cfg=None, tracker=botsort.yaml, save_dir=runs\\detect\\train2\n",
      "Downloading https://ultralytics.com/assets/Arial.ttf to 'C:\\Users\\TEMP.DESKTOP-DQOQJ3V\\AppData\\Roaming\\Ultralytics\\Arial.ttf'...\n"
     ]
    },
    {
     "name": "stderr",
     "output_type": "stream",
     "text": [
      "100%|███████████████████████████████████████████████████████████████████████████████| 755k/755k [00:00<00:00, 1.05MB/s]\n"
     ]
    },
    {
     "name": "stdout",
     "output_type": "stream",
     "text": [
      "Overriding model.yaml nc=80 with nc=1\n",
      "\n",
      "                   from  n    params  module                                       arguments                     \n",
      "  0                  -1  1       928  ultralytics.nn.modules.conv.Conv             [3, 32, 3, 2]                 \n",
      "  1                  -1  1     18560  ultralytics.nn.modules.conv.Conv             [32, 64, 3, 2]                \n",
      "  2                  -1  1     29056  ultralytics.nn.modules.block.C2f             [64, 64, 1, True]             \n",
      "  3                  -1  1     73984  ultralytics.nn.modules.conv.Conv             [64, 128, 3, 2]               \n",
      "  4                  -1  2    197632  ultralytics.nn.modules.block.C2f             [128, 128, 2, True]           \n",
      "  5                  -1  1    295424  ultralytics.nn.modules.conv.Conv             [128, 256, 3, 2]              \n",
      "  6                  -1  2    788480  ultralytics.nn.modules.block.C2f             [256, 256, 2, True]           \n",
      "  7                  -1  1   1180672  ultralytics.nn.modules.conv.Conv             [256, 512, 3, 2]              \n",
      "  8                  -1  1   1838080  ultralytics.nn.modules.block.C2f             [512, 512, 1, True]           \n",
      "  9                  -1  1    656896  ultralytics.nn.modules.block.SPPF            [512, 512, 5]                 \n",
      " 10                  -1  1         0  torch.nn.modules.upsampling.Upsample         [None, 2, 'nearest']          \n",
      " 11             [-1, 6]  1         0  ultralytics.nn.modules.conv.Concat           [1]                           \n",
      " 12                  -1  1    591360  ultralytics.nn.modules.block.C2f             [768, 256, 1]                 \n",
      " 13                  -1  1         0  torch.nn.modules.upsampling.Upsample         [None, 2, 'nearest']          \n",
      " 14             [-1, 4]  1         0  ultralytics.nn.modules.conv.Concat           [1]                           \n",
      " 15                  -1  1    148224  ultralytics.nn.modules.block.C2f             [384, 128, 1]                 \n",
      " 16                  -1  1    147712  ultralytics.nn.modules.conv.Conv             [128, 128, 3, 2]              \n",
      " 17            [-1, 12]  1         0  ultralytics.nn.modules.conv.Concat           [1]                           \n",
      " 18                  -1  1    493056  ultralytics.nn.modules.block.C2f             [384, 256, 1]                 \n",
      " 19                  -1  1    590336  ultralytics.nn.modules.conv.Conv             [256, 256, 3, 2]              \n",
      " 20             [-1, 9]  1         0  ultralytics.nn.modules.conv.Concat           [1]                           \n",
      " 21                  -1  1   1969152  ultralytics.nn.modules.block.C2f             [768, 512, 1]                 \n",
      " 22        [15, 18, 21]  1   2116435  ultralytics.nn.modules.head.Detect           [1, [128, 256, 512]]          \n",
      "Model summary: 129 layers, 11,135,987 parameters, 11,135,971 gradients, 28.6 GFLOPs\n",
      "\n",
      "Transferred 349/355 items from pretrained weights\n",
      "\u001b[34m\u001b[1mTensorBoard: \u001b[0mStart with 'tensorboard --logdir runs\\detect\\train2', view at http://localhost:6006/\n",
      "Freezing layer 'model.22.dfl.conv.weight'\n"
     ]
    },
    {
     "name": "stderr",
     "output_type": "stream",
     "text": [
      "\u001b[34m\u001b[1mtrain: \u001b[0mScanning H:\\obdt\\train\\labels... 62 images, 1 backgrounds, 0 corrupt: 100%|██████████| 62/62 [00:06<00:00,  9.96\u001b[0m\n"
     ]
    },
    {
     "name": "stdout",
     "output_type": "stream",
     "text": [
      "\u001b[34m\u001b[1mtrain: \u001b[0mNew cache created: H:\\obdt\\train\\labels.cache\n"
     ]
    },
    {
     "name": "stderr",
     "output_type": "stream",
     "text": [
      "\u001b[34m\u001b[1mval: \u001b[0mScanning H:\\obdt\\valid\\labels... 19 images, 1 backgrounds, 0 corrupt: 100%|██████████| 19/19 [00:03<00:00,  5.01it\u001b[0m\n"
     ]
    },
    {
     "name": "stdout",
     "output_type": "stream",
     "text": [
      "\u001b[34m\u001b[1mval: \u001b[0mNew cache created: H:\\obdt\\valid\\labels.cache\n",
      "Plotting labels to runs\\detect\\train2\\labels.jpg... \n",
      "\u001b[34m\u001b[1moptimizer:\u001b[0m 'optimizer=auto' found, ignoring 'lr0=0.01' and 'momentum=0.937' and determining best 'optimizer', 'lr0' and 'momentum' automatically... \n",
      "\u001b[34m\u001b[1moptimizer:\u001b[0m AdamW(lr=0.002, momentum=0.9) with parameter groups 57 weight(decay=0.0), 64 weight(decay=0.0005), 63 bias(decay=0.0)\n",
      "\u001b[34m\u001b[1mTensorBoard: \u001b[0mmodel graph visualization added \n",
      "Image sizes 640 train, 640 val\n",
      "Using 0 dataloader workers\n",
      "Logging results to \u001b[1mruns\\detect\\train2\u001b[0m\n",
      "Starting training for 20 epochs...\n",
      "\n",
      "      Epoch    GPU_mem   box_loss   cls_loss   dfl_loss  Instances       Size\n"
     ]
    },
    {
     "name": "stderr",
     "output_type": "stream",
     "text": [
      "       1/20         0G      1.386      2.594      1.429         32        640: 100%|██████████| 8/8 [05:03<00:00, 37.97\n",
      "                 Class     Images  Instances      Box(P          R      mAP50  mAP50-95): 100%|██████████| 2/2 [00:33<0"
     ]
    },
    {
     "name": "stdout",
     "output_type": "stream",
     "text": [
      "                   all         19         36      0.615      0.639      0.653      0.485\n"
     ]
    },
    {
     "name": "stderr",
     "output_type": "stream",
     "text": [
      "\n"
     ]
    },
    {
     "name": "stdout",
     "output_type": "stream",
     "text": [
      "\n",
      "      Epoch    GPU_mem   box_loss   cls_loss   dfl_loss  Instances       Size\n"
     ]
    },
    {
     "name": "stderr",
     "output_type": "stream",
     "text": [
      "       2/20         0G      1.304      2.087      1.385         24        640: 100%|██████████| 8/8 [04:59<00:00, 37.40\n",
      "                 Class     Images  Instances      Box(P          R      mAP50  mAP50-95): 100%|██████████| 2/2 [00:28<0"
     ]
    },
    {
     "name": "stdout",
     "output_type": "stream",
     "text": [
      "                   all         19         36      0.432      0.694      0.473      0.323\n"
     ]
    },
    {
     "name": "stderr",
     "output_type": "stream",
     "text": [
      "\n"
     ]
    },
    {
     "name": "stdout",
     "output_type": "stream",
     "text": [
      "\n",
      "      Epoch    GPU_mem   box_loss   cls_loss   dfl_loss  Instances       Size\n"
     ]
    },
    {
     "name": "stderr",
     "output_type": "stream",
     "text": [
      "       3/20         0G      1.303      2.069      1.334         17        640: 100%|██████████| 8/8 [04:42<00:00, 35.34\n",
      "                 Class     Images  Instances      Box(P          R      mAP50  mAP50-95): 100%|██████████| 2/2 [00:27<0"
     ]
    },
    {
     "name": "stdout",
     "output_type": "stream",
     "text": [
      "                   all         19         36      0.414      0.589       0.47      0.333\n"
     ]
    },
    {
     "name": "stderr",
     "output_type": "stream",
     "text": [
      "\n"
     ]
    },
    {
     "name": "stdout",
     "output_type": "stream",
     "text": [
      "\n",
      "      Epoch    GPU_mem   box_loss   cls_loss   dfl_loss  Instances       Size\n"
     ]
    },
    {
     "name": "stderr",
     "output_type": "stream",
     "text": [
      "       4/20         0G      1.276      2.033      1.317         19        640: 100%|██████████| 8/8 [04:37<00:00, 34.72\n",
      "                 Class     Images  Instances      Box(P          R      mAP50  mAP50-95): 100%|██████████| 2/2 [00:26<0"
     ]
    },
    {
     "name": "stdout",
     "output_type": "stream",
     "text": [
      "                   all         19         36       0.69      0.611      0.657      0.497\n"
     ]
    },
    {
     "name": "stderr",
     "output_type": "stream",
     "text": [
      "\n"
     ]
    },
    {
     "name": "stdout",
     "output_type": "stream",
     "text": [
      "\n",
      "      Epoch    GPU_mem   box_loss   cls_loss   dfl_loss  Instances       Size\n"
     ]
    },
    {
     "name": "stderr",
     "output_type": "stream",
     "text": [
      "       5/20         0G      1.218      1.645      1.237         23        640: 100%|██████████| 8/8 [04:41<00:00, 35.21\n",
      "                 Class     Images  Instances      Box(P          R      mAP50  mAP50-95): 100%|██████████| 2/2 [00:30<0"
     ]
    },
    {
     "name": "stdout",
     "output_type": "stream",
     "text": [
      "                   all         19         36      0.494      0.623       0.56      0.414\n"
     ]
    },
    {
     "name": "stderr",
     "output_type": "stream",
     "text": [
      "\n"
     ]
    },
    {
     "name": "stdout",
     "output_type": "stream",
     "text": [
      "\n",
      "      Epoch    GPU_mem   box_loss   cls_loss   dfl_loss  Instances       Size\n"
     ]
    },
    {
     "name": "stderr",
     "output_type": "stream",
     "text": [
      "       6/20         0G      1.334      1.715      1.367         41        640: 100%|██████████| 8/8 [05:12<00:00, 39.11\n",
      "                 Class     Images  Instances      Box(P          R      mAP50  mAP50-95): 100%|██████████| 2/2 [00:28<0"
     ]
    },
    {
     "name": "stdout",
     "output_type": "stream",
     "text": [
      "                   all         19         36      0.661        0.5      0.475      0.277\n"
     ]
    },
    {
     "name": "stderr",
     "output_type": "stream",
     "text": [
      "\n"
     ]
    },
    {
     "name": "stdout",
     "output_type": "stream",
     "text": [
      "\n",
      "      Epoch    GPU_mem   box_loss   cls_loss   dfl_loss  Instances       Size\n"
     ]
    },
    {
     "name": "stderr",
     "output_type": "stream",
     "text": [
      "       7/20         0G      1.225      1.489      1.325         27        640: 100%|██████████| 8/8 [05:02<00:00, 37.80\n",
      "                 Class     Images  Instances      Box(P          R      mAP50  mAP50-95): 100%|██████████| 2/2 [00:31<0"
     ]
    },
    {
     "name": "stdout",
     "output_type": "stream",
     "text": [
      "                   all         19         36      0.541      0.472      0.421      0.287\n"
     ]
    },
    {
     "name": "stderr",
     "output_type": "stream",
     "text": [
      "\n"
     ]
    },
    {
     "name": "stdout",
     "output_type": "stream",
     "text": [
      "\n",
      "      Epoch    GPU_mem   box_loss   cls_loss   dfl_loss  Instances       Size\n"
     ]
    },
    {
     "name": "stderr",
     "output_type": "stream",
     "text": [
      "       8/20         0G      1.356      1.711      1.384         44        640: 100%|██████████| 8/8 [05:08<00:00, 38.50\n",
      "                 Class     Images  Instances      Box(P          R      mAP50  mAP50-95): 100%|██████████| 2/2 [00:33<0"
     ]
    },
    {
     "name": "stdout",
     "output_type": "stream",
     "text": [
      "                   all         19         36      0.624      0.389       0.46      0.309\n"
     ]
    },
    {
     "name": "stderr",
     "output_type": "stream",
     "text": [
      "\n"
     ]
    },
    {
     "name": "stdout",
     "output_type": "stream",
     "text": [
      "\n",
      "      Epoch    GPU_mem   box_loss   cls_loss   dfl_loss  Instances       Size\n"
     ]
    },
    {
     "name": "stderr",
     "output_type": "stream",
     "text": [
      "       9/20         0G      1.192      1.372       1.25         41        640: 100%|██████████| 8/8 [04:59<00:00, 37.49\n",
      "                 Class     Images  Instances      Box(P          R      mAP50  mAP50-95): 100%|██████████| 2/2 [00:31<0"
     ]
    },
    {
     "name": "stdout",
     "output_type": "stream",
     "text": [
      "                   all         19         36      0.415       0.25      0.245      0.165\n"
     ]
    },
    {
     "name": "stderr",
     "output_type": "stream",
     "text": [
      "\n"
     ]
    },
    {
     "name": "stdout",
     "output_type": "stream",
     "text": [
      "\n",
      "      Epoch    GPU_mem   box_loss   cls_loss   dfl_loss  Instances       Size\n"
     ]
    },
    {
     "name": "stderr",
     "output_type": "stream",
     "text": [
      "      10/20         0G      1.407      1.688      1.452         37        640: 100%|██████████| 8/8 [04:34<00:00, 34.35\n",
      "                 Class     Images  Instances      Box(P          R      mAP50  mAP50-95): 100%|██████████| 2/2 [00:27<0"
     ]
    },
    {
     "name": "stdout",
     "output_type": "stream",
     "text": [
      "                   all         19         36      0.427      0.361      0.336      0.198\n"
     ]
    },
    {
     "name": "stderr",
     "output_type": "stream",
     "text": [
      "\n"
     ]
    },
    {
     "name": "stdout",
     "output_type": "stream",
     "text": [
      "Closing dataloader mosaic\n",
      "\n",
      "      Epoch    GPU_mem   box_loss   cls_loss   dfl_loss  Instances       Size\n"
     ]
    },
    {
     "name": "stderr",
     "output_type": "stream",
     "text": [
      "      11/20         0G      1.276      1.514      1.333         15        640: 100%|██████████| 8/8 [04:41<00:00, 35.21\n",
      "                 Class     Images  Instances      Box(P          R      mAP50  mAP50-95): 100%|██████████| 2/2 [00:27<0"
     ]
    },
    {
     "name": "stdout",
     "output_type": "stream",
     "text": [
      "                   all         19         36      0.316      0.444      0.316      0.176\n"
     ]
    },
    {
     "name": "stderr",
     "output_type": "stream",
     "text": [
      "\n"
     ]
    },
    {
     "name": "stdout",
     "output_type": "stream",
     "text": [
      "\n",
      "      Epoch    GPU_mem   box_loss   cls_loss   dfl_loss  Instances       Size\n"
     ]
    },
    {
     "name": "stderr",
     "output_type": "stream",
     "text": [
      "      12/20         0G       1.23      1.349      1.354         13        640: 100%|██████████| 8/8 [04:43<00:00, 35.40\n",
      "                 Class     Images  Instances      Box(P          R      mAP50  mAP50-95): 100%|██████████| 2/2 [00:27<0"
     ]
    },
    {
     "name": "stdout",
     "output_type": "stream",
     "text": [
      "                   all         19         36      0.451      0.389      0.351      0.224\n"
     ]
    },
    {
     "name": "stderr",
     "output_type": "stream",
     "text": [
      "\n"
     ]
    },
    {
     "name": "stdout",
     "output_type": "stream",
     "text": [
      "\n",
      "      Epoch    GPU_mem   box_loss   cls_loss   dfl_loss  Instances       Size\n"
     ]
    },
    {
     "name": "stderr",
     "output_type": "stream",
     "text": [
      "      13/20         0G      1.169      1.298      1.259         16        640: 100%|██████████| 8/8 [04:28<00:00, 33.55\n",
      "                 Class     Images  Instances      Box(P          R      mAP50  mAP50-95): 100%|██████████| 2/2 [00:26<0"
     ]
    },
    {
     "name": "stdout",
     "output_type": "stream",
     "text": [
      "                   all         19         36      0.704      0.278      0.323      0.174\n"
     ]
    },
    {
     "name": "stderr",
     "output_type": "stream",
     "text": [
      "\n"
     ]
    },
    {
     "name": "stdout",
     "output_type": "stream",
     "text": [
      "\n",
      "      Epoch    GPU_mem   box_loss   cls_loss   dfl_loss  Instances       Size\n"
     ]
    },
    {
     "name": "stderr",
     "output_type": "stream",
     "text": [
      "      14/20         0G      1.085      1.172       1.24         14        640: 100%|██████████| 8/8 [04:38<00:00, 34.83\n",
      "                 Class     Images  Instances      Box(P          R      mAP50  mAP50-95): 100%|██████████| 2/2 [00:27<0"
     ]
    },
    {
     "name": "stdout",
     "output_type": "stream",
     "text": [
      "                   all         19         36      0.642      0.417      0.468      0.238\n"
     ]
    },
    {
     "name": "stderr",
     "output_type": "stream",
     "text": [
      "\n"
     ]
    },
    {
     "name": "stdout",
     "output_type": "stream",
     "text": [
      "\n",
      "      Epoch    GPU_mem   box_loss   cls_loss   dfl_loss  Instances       Size\n"
     ]
    },
    {
     "name": "stderr",
     "output_type": "stream",
     "text": [
      "      15/20         0G      1.167      1.184       1.28         19        640: 100%|██████████| 8/8 [04:54<00:00, 36.76\n",
      "                 Class     Images  Instances      Box(P          R      mAP50  mAP50-95): 100%|██████████| 2/2 [00:29<0"
     ]
    },
    {
     "name": "stdout",
     "output_type": "stream",
     "text": [
      "                   all         19         36      0.496      0.519      0.465      0.322\n"
     ]
    },
    {
     "name": "stderr",
     "output_type": "stream",
     "text": [
      "\n"
     ]
    },
    {
     "name": "stdout",
     "output_type": "stream",
     "text": [
      "\n",
      "      Epoch    GPU_mem   box_loss   cls_loss   dfl_loss  Instances       Size\n"
     ]
    },
    {
     "name": "stderr",
     "output_type": "stream",
     "text": [
      "      16/20         0G      1.101      1.128      1.234         14        640: 100%|██████████| 8/8 [04:49<00:00, 36.14\n",
      "                 Class     Images  Instances      Box(P          R      mAP50  mAP50-95): 100%|██████████| 2/2 [00:37<0"
     ]
    },
    {
     "name": "stdout",
     "output_type": "stream",
     "text": [
      "                   all         19         36       0.61      0.389      0.451      0.325\n"
     ]
    },
    {
     "name": "stderr",
     "output_type": "stream",
     "text": [
      "\n"
     ]
    },
    {
     "name": "stdout",
     "output_type": "stream",
     "text": [
      "\n",
      "      Epoch    GPU_mem   box_loss   cls_loss   dfl_loss  Instances       Size\n"
     ]
    },
    {
     "name": "stderr",
     "output_type": "stream",
     "text": [
      "      17/20         0G      1.062      1.061      1.225         13        640: 100%|██████████| 8/8 [04:28<00:00, 33.61\n",
      "                 Class     Images  Instances      Box(P          R      mAP50  mAP50-95): 100%|██████████| 2/2 [00:26<0"
     ]
    },
    {
     "name": "stdout",
     "output_type": "stream",
     "text": [
      "                   all         19         36      0.608      0.417      0.476      0.352\n"
     ]
    },
    {
     "name": "stderr",
     "output_type": "stream",
     "text": [
      "\n"
     ]
    },
    {
     "name": "stdout",
     "output_type": "stream",
     "text": [
      "\n",
      "      Epoch    GPU_mem   box_loss   cls_loss   dfl_loss  Instances       Size\n"
     ]
    },
    {
     "name": "stderr",
     "output_type": "stream",
     "text": [
      "      18/20         0G     0.9978      1.015      1.174          8        640: 100%|██████████| 8/8 [04:27<00:00, 33.41\n",
      "                 Class     Images  Instances      Box(P          R      mAP50  mAP50-95): 100%|██████████| 2/2 [00:26<0"
     ]
    },
    {
     "name": "stdout",
     "output_type": "stream",
     "text": [
      "                   all         19         36      0.543      0.556      0.554      0.395\n"
     ]
    },
    {
     "name": "stderr",
     "output_type": "stream",
     "text": [
      "\n"
     ]
    },
    {
     "name": "stdout",
     "output_type": "stream",
     "text": [
      "\n",
      "      Epoch    GPU_mem   box_loss   cls_loss   dfl_loss  Instances       Size\n"
     ]
    },
    {
     "name": "stderr",
     "output_type": "stream",
     "text": [
      "      19/20         0G     0.9566     0.9668      1.135         21        640: 100%|██████████| 8/8 [04:27<00:00, 33.46\n",
      "                 Class     Images  Instances      Box(P          R      mAP50  mAP50-95): 100%|██████████| 2/2 [00:26<0"
     ]
    },
    {
     "name": "stdout",
     "output_type": "stream",
     "text": [
      "                   all         19         36      0.505      0.556      0.552      0.407\n"
     ]
    },
    {
     "name": "stderr",
     "output_type": "stream",
     "text": [
      "\n"
     ]
    },
    {
     "name": "stdout",
     "output_type": "stream",
     "text": [
      "\n",
      "      Epoch    GPU_mem   box_loss   cls_loss   dfl_loss  Instances       Size\n"
     ]
    },
    {
     "name": "stderr",
     "output_type": "stream",
     "text": [
      "      20/20         0G     0.9673      1.008      1.205         14        640: 100%|██████████| 8/8 [04:29<00:00, 33.73\n",
      "                 Class     Images  Instances      Box(P          R      mAP50  mAP50-95): 100%|██████████| 2/2 [00:27<0"
     ]
    },
    {
     "name": "stdout",
     "output_type": "stream",
     "text": [
      "                   all         19         36      0.541      0.583      0.568      0.416\n"
     ]
    },
    {
     "name": "stderr",
     "output_type": "stream",
     "text": [
      "\n"
     ]
    },
    {
     "name": "stdout",
     "output_type": "stream",
     "text": [
      "\n",
      "20 epochs completed in 1.765 hours.\n",
      "Optimizer stripped from runs\\detect\\train2\\weights\\last.pt, 22.5MB\n",
      "Optimizer stripped from runs\\detect\\train2\\weights\\best.pt, 22.5MB\n",
      "\n",
      "Validating runs\\detect\\train2\\weights\\best.pt...\n",
      "Ultralytics 8.3.109  Python-3.12.9 torch-2.6.0+cpu CPU (Intel Pentium Silver J5005 1.50GHz)\n",
      "Model summary (fused): 72 layers, 11,125,971 parameters, 0 gradients, 28.4 GFLOPs\n"
     ]
    },
    {
     "name": "stderr",
     "output_type": "stream",
     "text": [
      "                 Class     Images  Instances      Box(P          R      mAP50  mAP50-95): 100%|██████████| 2/2 [00:25<0\n"
     ]
    },
    {
     "name": "stdout",
     "output_type": "stream",
     "text": [
      "                   all         19         36      0.691      0.639      0.654      0.493\n",
      "Speed: 6.4ms preprocess, 1278.9ms inference, 0.0ms loss, 5.8ms postprocess per image\n",
      "Results saved to \u001b[1mruns\\detect\\train2\u001b[0m\n"
     ]
    },
    {
     "data": {
      "text/plain": [
       "ultralytics.utils.metrics.DetMetrics object with attributes:\n",
       "\n",
       "ap_class_index: array([0])\n",
       "box: ultralytics.utils.metrics.Metric object\n",
       "confusion_matrix: <ultralytics.utils.metrics.ConfusionMatrix object at 0x0000022F9206D850>\n",
       "curves: ['Precision-Recall(B)', 'F1-Confidence(B)', 'Precision-Confidence(B)', 'Recall-Confidence(B)']\n",
       "curves_results: [[array([          0,    0.001001,    0.002002,    0.003003,    0.004004,    0.005005,    0.006006,    0.007007,    0.008008,    0.009009,     0.01001,    0.011011,    0.012012,    0.013013,    0.014014,    0.015015,    0.016016,    0.017017,    0.018018,    0.019019,     0.02002,    0.021021,    0.022022,    0.023023,\n",
       "          0.024024,    0.025025,    0.026026,    0.027027,    0.028028,    0.029029,     0.03003,    0.031031,    0.032032,    0.033033,    0.034034,    0.035035,    0.036036,    0.037037,    0.038038,    0.039039,     0.04004,    0.041041,    0.042042,    0.043043,    0.044044,    0.045045,    0.046046,    0.047047,\n",
       "          0.048048,    0.049049,     0.05005,    0.051051,    0.052052,    0.053053,    0.054054,    0.055055,    0.056056,    0.057057,    0.058058,    0.059059,     0.06006,    0.061061,    0.062062,    0.063063,    0.064064,    0.065065,    0.066066,    0.067067,    0.068068,    0.069069,     0.07007,    0.071071,\n",
       "          0.072072,    0.073073,    0.074074,    0.075075,    0.076076,    0.077077,    0.078078,    0.079079,     0.08008,    0.081081,    0.082082,    0.083083,    0.084084,    0.085085,    0.086086,    0.087087,    0.088088,    0.089089,     0.09009,    0.091091,    0.092092,    0.093093,    0.094094,    0.095095,\n",
       "          0.096096,    0.097097,    0.098098,    0.099099,      0.1001,      0.1011,      0.1021,      0.1031,      0.1041,     0.10511,     0.10611,     0.10711,     0.10811,     0.10911,     0.11011,     0.11111,     0.11211,     0.11311,     0.11411,     0.11512,     0.11612,     0.11712,     0.11812,     0.11912,\n",
       "           0.12012,     0.12112,     0.12212,     0.12312,     0.12412,     0.12513,     0.12613,     0.12713,     0.12813,     0.12913,     0.13013,     0.13113,     0.13213,     0.13313,     0.13413,     0.13514,     0.13614,     0.13714,     0.13814,     0.13914,     0.14014,     0.14114,     0.14214,     0.14314,\n",
       "           0.14414,     0.14515,     0.14615,     0.14715,     0.14815,     0.14915,     0.15015,     0.15115,     0.15215,     0.15315,     0.15415,     0.15516,     0.15616,     0.15716,     0.15816,     0.15916,     0.16016,     0.16116,     0.16216,     0.16316,     0.16416,     0.16517,     0.16617,     0.16717,\n",
       "           0.16817,     0.16917,     0.17017,     0.17117,     0.17217,     0.17317,     0.17417,     0.17518,     0.17618,     0.17718,     0.17818,     0.17918,     0.18018,     0.18118,     0.18218,     0.18318,     0.18418,     0.18519,     0.18619,     0.18719,     0.18819,     0.18919,     0.19019,     0.19119,\n",
       "           0.19219,     0.19319,     0.19419,      0.1952,      0.1962,      0.1972,      0.1982,      0.1992,      0.2002,      0.2012,      0.2022,      0.2032,      0.2042,     0.20521,     0.20621,     0.20721,     0.20821,     0.20921,     0.21021,     0.21121,     0.21221,     0.21321,     0.21421,     0.21522,\n",
       "           0.21622,     0.21722,     0.21822,     0.21922,     0.22022,     0.22122,     0.22222,     0.22322,     0.22422,     0.22523,     0.22623,     0.22723,     0.22823,     0.22923,     0.23023,     0.23123,     0.23223,     0.23323,     0.23423,     0.23524,     0.23624,     0.23724,     0.23824,     0.23924,\n",
       "           0.24024,     0.24124,     0.24224,     0.24324,     0.24424,     0.24525,     0.24625,     0.24725,     0.24825,     0.24925,     0.25025,     0.25125,     0.25225,     0.25325,     0.25425,     0.25526,     0.25626,     0.25726,     0.25826,     0.25926,     0.26026,     0.26126,     0.26226,     0.26326,\n",
       "           0.26426,     0.26527,     0.26627,     0.26727,     0.26827,     0.26927,     0.27027,     0.27127,     0.27227,     0.27327,     0.27427,     0.27528,     0.27628,     0.27728,     0.27828,     0.27928,     0.28028,     0.28128,     0.28228,     0.28328,     0.28428,     0.28529,     0.28629,     0.28729,\n",
       "           0.28829,     0.28929,     0.29029,     0.29129,     0.29229,     0.29329,     0.29429,      0.2953,      0.2963,      0.2973,      0.2983,      0.2993,      0.3003,      0.3013,      0.3023,      0.3033,      0.3043,     0.30531,     0.30631,     0.30731,     0.30831,     0.30931,     0.31031,     0.31131,\n",
       "           0.31231,     0.31331,     0.31431,     0.31532,     0.31632,     0.31732,     0.31832,     0.31932,     0.32032,     0.32132,     0.32232,     0.32332,     0.32432,     0.32533,     0.32633,     0.32733,     0.32833,     0.32933,     0.33033,     0.33133,     0.33233,     0.33333,     0.33433,     0.33534,\n",
       "           0.33634,     0.33734,     0.33834,     0.33934,     0.34034,     0.34134,     0.34234,     0.34334,     0.34434,     0.34535,     0.34635,     0.34735,     0.34835,     0.34935,     0.35035,     0.35135,     0.35235,     0.35335,     0.35435,     0.35536,     0.35636,     0.35736,     0.35836,     0.35936,\n",
       "           0.36036,     0.36136,     0.36236,     0.36336,     0.36436,     0.36537,     0.36637,     0.36737,     0.36837,     0.36937,     0.37037,     0.37137,     0.37237,     0.37337,     0.37437,     0.37538,     0.37638,     0.37738,     0.37838,     0.37938,     0.38038,     0.38138,     0.38238,     0.38338,\n",
       "           0.38438,     0.38539,     0.38639,     0.38739,     0.38839,     0.38939,     0.39039,     0.39139,     0.39239,     0.39339,     0.39439,      0.3954,      0.3964,      0.3974,      0.3984,      0.3994,      0.4004,      0.4014,      0.4024,      0.4034,      0.4044,     0.40541,     0.40641,     0.40741,\n",
       "           0.40841,     0.40941,     0.41041,     0.41141,     0.41241,     0.41341,     0.41441,     0.41542,     0.41642,     0.41742,     0.41842,     0.41942,     0.42042,     0.42142,     0.42242,     0.42342,     0.42442,     0.42543,     0.42643,     0.42743,     0.42843,     0.42943,     0.43043,     0.43143,\n",
       "           0.43243,     0.43343,     0.43443,     0.43544,     0.43644,     0.43744,     0.43844,     0.43944,     0.44044,     0.44144,     0.44244,     0.44344,     0.44444,     0.44545,     0.44645,     0.44745,     0.44845,     0.44945,     0.45045,     0.45145,     0.45245,     0.45345,     0.45445,     0.45546,\n",
       "           0.45646,     0.45746,     0.45846,     0.45946,     0.46046,     0.46146,     0.46246,     0.46346,     0.46446,     0.46547,     0.46647,     0.46747,     0.46847,     0.46947,     0.47047,     0.47147,     0.47247,     0.47347,     0.47447,     0.47548,     0.47648,     0.47748,     0.47848,     0.47948,\n",
       "           0.48048,     0.48148,     0.48248,     0.48348,     0.48448,     0.48549,     0.48649,     0.48749,     0.48849,     0.48949,     0.49049,     0.49149,     0.49249,     0.49349,     0.49449,      0.4955,      0.4965,      0.4975,      0.4985,      0.4995,      0.5005,      0.5015,      0.5025,      0.5035,\n",
       "            0.5045,     0.50551,     0.50651,     0.50751,     0.50851,     0.50951,     0.51051,     0.51151,     0.51251,     0.51351,     0.51451,     0.51552,     0.51652,     0.51752,     0.51852,     0.51952,     0.52052,     0.52152,     0.52252,     0.52352,     0.52452,     0.52553,     0.52653,     0.52753,\n",
       "           0.52853,     0.52953,     0.53053,     0.53153,     0.53253,     0.53353,     0.53453,     0.53554,     0.53654,     0.53754,     0.53854,     0.53954,     0.54054,     0.54154,     0.54254,     0.54354,     0.54454,     0.54555,     0.54655,     0.54755,     0.54855,     0.54955,     0.55055,     0.55155,\n",
       "           0.55255,     0.55355,     0.55455,     0.55556,     0.55656,     0.55756,     0.55856,     0.55956,     0.56056,     0.56156,     0.56256,     0.56356,     0.56456,     0.56557,     0.56657,     0.56757,     0.56857,     0.56957,     0.57057,     0.57157,     0.57257,     0.57357,     0.57457,     0.57558,\n",
       "           0.57658,     0.57758,     0.57858,     0.57958,     0.58058,     0.58158,     0.58258,     0.58358,     0.58458,     0.58559,     0.58659,     0.58759,     0.58859,     0.58959,     0.59059,     0.59159,     0.59259,     0.59359,     0.59459,      0.5956,      0.5966,      0.5976,      0.5986,      0.5996,\n",
       "            0.6006,      0.6016,      0.6026,      0.6036,      0.6046,     0.60561,     0.60661,     0.60761,     0.60861,     0.60961,     0.61061,     0.61161,     0.61261,     0.61361,     0.61461,     0.61562,     0.61662,     0.61762,     0.61862,     0.61962,     0.62062,     0.62162,     0.62262,     0.62362,\n",
       "           0.62462,     0.62563,     0.62663,     0.62763,     0.62863,     0.62963,     0.63063,     0.63163,     0.63263,     0.63363,     0.63463,     0.63564,     0.63664,     0.63764,     0.63864,     0.63964,     0.64064,     0.64164,     0.64264,     0.64364,     0.64464,     0.64565,     0.64665,     0.64765,\n",
       "           0.64865,     0.64965,     0.65065,     0.65165,     0.65265,     0.65365,     0.65465,     0.65566,     0.65666,     0.65766,     0.65866,     0.65966,     0.66066,     0.66166,     0.66266,     0.66366,     0.66466,     0.66567,     0.66667,     0.66767,     0.66867,     0.66967,     0.67067,     0.67167,\n",
       "           0.67267,     0.67367,     0.67467,     0.67568,     0.67668,     0.67768,     0.67868,     0.67968,     0.68068,     0.68168,     0.68268,     0.68368,     0.68468,     0.68569,     0.68669,     0.68769,     0.68869,     0.68969,     0.69069,     0.69169,     0.69269,     0.69369,     0.69469,      0.6957,\n",
       "            0.6967,      0.6977,      0.6987,      0.6997,      0.7007,      0.7017,      0.7027,      0.7037,      0.7047,     0.70571,     0.70671,     0.70771,     0.70871,     0.70971,     0.71071,     0.71171,     0.71271,     0.71371,     0.71471,     0.71572,     0.71672,     0.71772,     0.71872,     0.71972,\n",
       "           0.72072,     0.72172,     0.72272,     0.72372,     0.72472,     0.72573,     0.72673,     0.72773,     0.72873,     0.72973,     0.73073,     0.73173,     0.73273,     0.73373,     0.73473,     0.73574,     0.73674,     0.73774,     0.73874,     0.73974,     0.74074,     0.74174,     0.74274,     0.74374,\n",
       "           0.74474,     0.74575,     0.74675,     0.74775,     0.74875,     0.74975,     0.75075,     0.75175,     0.75275,     0.75375,     0.75475,     0.75576,     0.75676,     0.75776,     0.75876,     0.75976,     0.76076,     0.76176,     0.76276,     0.76376,     0.76476,     0.76577,     0.76677,     0.76777,\n",
       "           0.76877,     0.76977,     0.77077,     0.77177,     0.77277,     0.77377,     0.77477,     0.77578,     0.77678,     0.77778,     0.77878,     0.77978,     0.78078,     0.78178,     0.78278,     0.78378,     0.78478,     0.78579,     0.78679,     0.78779,     0.78879,     0.78979,     0.79079,     0.79179,\n",
       "           0.79279,     0.79379,     0.79479,      0.7958,      0.7968,      0.7978,      0.7988,      0.7998,      0.8008,      0.8018,      0.8028,      0.8038,      0.8048,     0.80581,     0.80681,     0.80781,     0.80881,     0.80981,     0.81081,     0.81181,     0.81281,     0.81381,     0.81481,     0.81582,\n",
       "           0.81682,     0.81782,     0.81882,     0.81982,     0.82082,     0.82182,     0.82282,     0.82382,     0.82482,     0.82583,     0.82683,     0.82783,     0.82883,     0.82983,     0.83083,     0.83183,     0.83283,     0.83383,     0.83483,     0.83584,     0.83684,     0.83784,     0.83884,     0.83984,\n",
       "           0.84084,     0.84184,     0.84284,     0.84384,     0.84484,     0.84585,     0.84685,     0.84785,     0.84885,     0.84985,     0.85085,     0.85185,     0.85285,     0.85385,     0.85485,     0.85586,     0.85686,     0.85786,     0.85886,     0.85986,     0.86086,     0.86186,     0.86286,     0.86386,\n",
       "           0.86486,     0.86587,     0.86687,     0.86787,     0.86887,     0.86987,     0.87087,     0.87187,     0.87287,     0.87387,     0.87487,     0.87588,     0.87688,     0.87788,     0.87888,     0.87988,     0.88088,     0.88188,     0.88288,     0.88388,     0.88488,     0.88589,     0.88689,     0.88789,\n",
       "           0.88889,     0.88989,     0.89089,     0.89189,     0.89289,     0.89389,     0.89489,      0.8959,      0.8969,      0.8979,      0.8989,      0.8999,      0.9009,      0.9019,      0.9029,      0.9039,      0.9049,     0.90591,     0.90691,     0.90791,     0.90891,     0.90991,     0.91091,     0.91191,\n",
       "           0.91291,     0.91391,     0.91491,     0.91592,     0.91692,     0.91792,     0.91892,     0.91992,     0.92092,     0.92192,     0.92292,     0.92392,     0.92492,     0.92593,     0.92693,     0.92793,     0.92893,     0.92993,     0.93093,     0.93193,     0.93293,     0.93393,     0.93493,     0.93594,\n",
       "           0.93694,     0.93794,     0.93894,     0.93994,     0.94094,     0.94194,     0.94294,     0.94394,     0.94494,     0.94595,     0.94695,     0.94795,     0.94895,     0.94995,     0.95095,     0.95195,     0.95295,     0.95395,     0.95495,     0.95596,     0.95696,     0.95796,     0.95896,     0.95996,\n",
       "           0.96096,     0.96196,     0.96296,     0.96396,     0.96496,     0.96597,     0.96697,     0.96797,     0.96897,     0.96997,     0.97097,     0.97197,     0.97297,     0.97397,     0.97497,     0.97598,     0.97698,     0.97798,     0.97898,     0.97998,     0.98098,     0.98198,     0.98298,     0.98398,\n",
       "           0.98498,     0.98599,     0.98699,     0.98799,     0.98899,     0.98999,     0.99099,     0.99199,     0.99299,     0.99399,     0.99499,       0.996,       0.997,       0.998,       0.999,           1]), array([[          1,           1,           1,           1,           1,           1,           1,           1,           1,           1,           1,           1,           1,           1,           1,           1,           1,           1,           1,           1,           1,           1,           1,\n",
       "                  1,           1,           1,           1,           1,           1,           1,           1,           1,           1,           1,           1,           1,           1,           1,           1,           1,           1,           1,           1,           1,           1,           1,\n",
       "                  1,           1,           1,           1,           1,           1,           1,           1,           1,           1,     0.91667,     0.91667,     0.91667,     0.91667,     0.91667,     0.91667,     0.91667,     0.91667,     0.91667,     0.91667,     0.91667,     0.91667,     0.91667,\n",
       "            0.91667,     0.91667,     0.91667,     0.91667,     0.91667,     0.91667,     0.91667,     0.91667,     0.91667,     0.91667,     0.91667,     0.91667,     0.91667,     0.91667,     0.91667,     0.91667,     0.91667,     0.91667,     0.91667,     0.91667,     0.91667,     0.91667,     0.91667,\n",
       "            0.91667,     0.91667,     0.91667,     0.91667,     0.91667,     0.91667,     0.91667,     0.91667,     0.91667,     0.91667,     0.91667,     0.91667,     0.91667,     0.91667,     0.91667,     0.91667,     0.91667,     0.91667,     0.91667,     0.91667,     0.91667,     0.91667,     0.91667,\n",
       "            0.91667,     0.91667,     0.91667,     0.91667,     0.91667,     0.91667,     0.91667,     0.91667,     0.91667,     0.91667,     0.91667,     0.91667,     0.91667,     0.91667,     0.91667,     0.91667,     0.91667,     0.91667,     0.91667,     0.91667,     0.91667,     0.91667,     0.91667,\n",
       "            0.91667,     0.91667,     0.91667,     0.91667,     0.91667,     0.91667,     0.91667,     0.91667,     0.91667,     0.91667,     0.91667,     0.91667,     0.91667,     0.91667,     0.91667,     0.91667,     0.91667,     0.91667,     0.91667,     0.91667,     0.91667,     0.91667,     0.91667,\n",
       "            0.91667,     0.91667,     0.91667,     0.91667,     0.91667,     0.91667,     0.91667,     0.91667,     0.91667,     0.91667,     0.91667,     0.91667,     0.91667,     0.91667,     0.91667,     0.91667,     0.91667,     0.91667,     0.91667,     0.91667,     0.91667,     0.91667,     0.91667,\n",
       "            0.91667,     0.91667,     0.91667,     0.91667,     0.91667,     0.91667,     0.91667,     0.91667,     0.91667,     0.91667,     0.91667,     0.91667,     0.91667,     0.91667,     0.91667,     0.91667,     0.91667,     0.91667,     0.91667,     0.91667,     0.91667,     0.91667,     0.91667,\n",
       "            0.91667,     0.91667,     0.91667,     0.91667,     0.91667,     0.91667,     0.91667,     0.91667,     0.91667,     0.91667,     0.91667,     0.91667,     0.91667,     0.91667,     0.91667,     0.91667,     0.91667,     0.91667,     0.91667,     0.91667,     0.91667,     0.91667,     0.91667,\n",
       "            0.91667,     0.91667,     0.91667,     0.91667,     0.91667,     0.91667,     0.91667,     0.91667,     0.91667,     0.91667,     0.91667,     0.91667,     0.91667,     0.91667,     0.91667,     0.91667,     0.91667,     0.91667,     0.91667,     0.91667,     0.91667,     0.91667,     0.91667,\n",
       "            0.91667,     0.91667,     0.91667,     0.91667,     0.91667,     0.91667,     0.91667,     0.91667,     0.91667,     0.91667,     0.91667,     0.91667,     0.91667,     0.91667,     0.91667,     0.91667,     0.91667,     0.91667,     0.91667,     0.91667,     0.91667,     0.91667,     0.91667,\n",
       "            0.91667,     0.91667,     0.91667,     0.91667,     0.91667,     0.91667,     0.91667,     0.91667,     0.91667,     0.91667,     0.91667,     0.91667,     0.91667,     0.91667,     0.91667,     0.91667,     0.91667,     0.91667,     0.91667,     0.91667,     0.91667,     0.91667,     0.91667,\n",
       "            0.91667,     0.91667,     0.91667,     0.91667,     0.91667,     0.91667,     0.91667,     0.85714,     0.85714,     0.85714,     0.85714,     0.85714,     0.85714,     0.85714,     0.85714,     0.85714,     0.85714,     0.85714,     0.85714,     0.85714,     0.85714,     0.85714,     0.85714,\n",
       "            0.85714,     0.85714,     0.85714,     0.85714,     0.85714,     0.85714,     0.85714,     0.85714,     0.85714,     0.85714,     0.85714,     0.84211,     0.84211,     0.84211,     0.84211,     0.84211,     0.84211,     0.84211,     0.84211,     0.84211,     0.84211,     0.84211,     0.84211,\n",
       "            0.84211,     0.84211,     0.84211,     0.84211,     0.84211,     0.84211,     0.84211,     0.84211,     0.84211,     0.84211,     0.84211,     0.84211,     0.84211,     0.84211,     0.84211,     0.84211,     0.84211,     0.84211,     0.84211,     0.84211,     0.84211,     0.84211,     0.84211,\n",
       "            0.84211,     0.84211,     0.84211,     0.84211,     0.84211,     0.84211,     0.84211,     0.84211,     0.84211,     0.84211,     0.84211,     0.84211,     0.84211,     0.84211,     0.84211,     0.84211,     0.84211,     0.84211,     0.84211,     0.84211,     0.84211,     0.84211,     0.84211,\n",
       "            0.84211,     0.84211,     0.84211,     0.84211,     0.84211,     0.84211,     0.84211,     0.84211,     0.84211,     0.84211,     0.84211,     0.84211,     0.84211,     0.84211,     0.84211,     0.84211,     0.84211,     0.84211,     0.84211,     0.84211,     0.84211,     0.84211,     0.84211,\n",
       "            0.84211,     0.84211,     0.84211,     0.84211,     0.84211,     0.84211,     0.84211,     0.84211,     0.84211,     0.84211,     0.84211,     0.84211,     0.84211,     0.84211,     0.84211,     0.84211,     0.84211,     0.84211,     0.84211,     0.84211,     0.84211,     0.84211,     0.84211,\n",
       "            0.84211,     0.84211,     0.84211,     0.84211,     0.84211,     0.84211,     0.84211,     0.77273,     0.77273,     0.77273,     0.77273,     0.77273,     0.77273,     0.77273,     0.77273,     0.77273,     0.77273,     0.77273,     0.77273,     0.77273,     0.77273,     0.77273,     0.77273,\n",
       "            0.77273,     0.77273,     0.77273,     0.77273,     0.77273,     0.77273,     0.77273,     0.77273,     0.77273,     0.77273,     0.77273,     0.77273,     0.76923,     0.76923,     0.76923,     0.76923,     0.76923,     0.76923,     0.76923,     0.76923,     0.76923,     0.76923,     0.76923,\n",
       "            0.76923,     0.76923,     0.76923,     0.76923,     0.76923,     0.76923,     0.76923,     0.76923,     0.76923,     0.76923,     0.76923,     0.76923,     0.76923,     0.76923,     0.76923,     0.76923,     0.76923,     0.76923,     0.76923,     0.76923,     0.76923,     0.76923,     0.76923,\n",
       "            0.76923,     0.76923,     0.76923,     0.76923,     0.76923,     0.76923,     0.76923,     0.76923,     0.76923,     0.76923,     0.76923,     0.76923,     0.76923,     0.76923,     0.76923,     0.76923,     0.76923,     0.76923,     0.76923,     0.76923,     0.76923,     0.76923,     0.76923,\n",
       "            0.76923,     0.76923,     0.76923,     0.76923,     0.76923,     0.76923,     0.76923,     0.76923,     0.76923,     0.76923,     0.76923,     0.76923,     0.76923,     0.76923,     0.76923,     0.76923,     0.76923,     0.76923,     0.76923,     0.76923,     0.76923,     0.76923,     0.76923,\n",
       "            0.76923,     0.76923,     0.76923,        0.75,        0.75,        0.75,        0.75,        0.75,        0.75,        0.75,        0.75,        0.75,        0.75,        0.75,        0.75,        0.75,        0.75,        0.75,        0.75,        0.75,        0.75,        0.75,        0.75,\n",
       "               0.75,        0.75,        0.75,        0.75,        0.75,        0.75,        0.75,        0.75,     0.73333,     0.73333,     0.73333,     0.73333,     0.73333,     0.73333,     0.73333,     0.73333,     0.73333,     0.73333,     0.73333,     0.73333,     0.73333,     0.73333,     0.73333,\n",
       "            0.73333,     0.73333,     0.73333,     0.73333,     0.73333,     0.73333,     0.73333,     0.73333,     0.73333,     0.73333,     0.73333,     0.73333,     0.73333,     0.69697,     0.69697,     0.69697,     0.69697,     0.69697,     0.69697,     0.69697,     0.69697,     0.69697,     0.69697,\n",
       "            0.69697,     0.69697,     0.69697,     0.69697,     0.69697,     0.69697,     0.69697,     0.69697,     0.69697,     0.69697,     0.69697,     0.69697,     0.69697,     0.69697,     0.69697,     0.69697,     0.69697,     0.69697,     0.66667,     0.66667,     0.66667,     0.66667,     0.66667,\n",
       "            0.66667,     0.66667,     0.66667,     0.66667,     0.66667,     0.66667,     0.66667,     0.66667,     0.66667,     0.66667,     0.66667,     0.66667,     0.66667,     0.66667,     0.66667,     0.66667,     0.66667,     0.66667,     0.66667,     0.66667,     0.66667,     0.66667,       0.625,\n",
       "              0.625,       0.625,       0.625,       0.625,       0.625,       0.625,       0.625,       0.625,       0.625,       0.625,       0.625,       0.625,       0.625,       0.625,       0.625,       0.625,       0.625,       0.625,       0.625,       0.625,       0.625,       0.625,       0.625,\n",
       "              0.625,       0.625,       0.625,       0.625,         0.5,         0.5,         0.5,         0.5,         0.5,         0.5,         0.5,         0.5,         0.5,         0.5,         0.5,         0.5,         0.5,         0.5,         0.5,         0.5,         0.5,         0.5,         0.5,\n",
       "                0.5,         0.5,         0.5,         0.5,         0.5,         0.5,         0.5,         0.5,         0.5,         0.5,         0.5,         0.5,         0.5,         0.5,         0.5,         0.5,         0.5,         0.5,         0.5,         0.5,         0.5,         0.5,         0.5,\n",
       "                0.5,         0.5,         0.5,         0.5,         0.5,         0.5,         0.5,         0.5,         0.5,         0.5,         0.5,         0.5,         0.5,         0.5,     0.38889,     0.38889,     0.38889,     0.38889,     0.38889,     0.38889,     0.38889,     0.38889,     0.38889,\n",
       "            0.38889,     0.38889,     0.38889,     0.38889,     0.38889,     0.38889,     0.38889,     0.38889,     0.38889,     0.38889,     0.38889,     0.38889,     0.38889,     0.38889,     0.38889,     0.38889,     0.38889,     0.38889,     0.32584,     0.32584,     0.32584,     0.32584,     0.32584,\n",
       "            0.32584,     0.32584,     0.32584,     0.32584,     0.32584,     0.32584,     0.32584,     0.32584,     0.32584,     0.32584,     0.32584,     0.32584,     0.32584,     0.32584,     0.32584,     0.32584,     0.32584,     0.32584,     0.32584,     0.32584,     0.32584,     0.32584,     0.32584,\n",
       "             0.3125,      0.3125,      0.3125,      0.3125,      0.3125,      0.3125,      0.3125,      0.3125,      0.3125,      0.3125,      0.3125,      0.3125,      0.3125,      0.3125,      0.3125,      0.3125,      0.3125,      0.3125,      0.3125,      0.3125,      0.3125,      0.3125,      0.3125,\n",
       "             0.3125,      0.3125,      0.3125,      0.3125,      0.3125,     0.21233,     0.21233,     0.21233,     0.21233,     0.21233,     0.21233,     0.21233,     0.21233,     0.21233,     0.21233,     0.21233,     0.21233,     0.21233,     0.21233,     0.21233,     0.21233,     0.21233,     0.21233,\n",
       "            0.21233,     0.21233,     0.21233,     0.21233,     0.21233,     0.21233,     0.21233,     0.21233,     0.21233,     0.21233,     0.11111,     0.11111,     0.11111,     0.11111,     0.11111,     0.11111,     0.11111,     0.11111,     0.11111,     0.11111,     0.11111,     0.11111,     0.11111,\n",
       "            0.11111,     0.11111,     0.11111,     0.11111,     0.11111,     0.11111,     0.11111,     0.11111,     0.11111,     0.11111,     0.11111,     0.11111,     0.11111,     0.11111,    0.086387,    0.086387,    0.086387,    0.086387,    0.086387,    0.086387,    0.086387,    0.086387,    0.086387,\n",
       "           0.086387,    0.086387,    0.086387,    0.086387,    0.086387,    0.086387,    0.086387,    0.086387,    0.086387,    0.086387,    0.086387,    0.086387,    0.086387,    0.086387,    0.086387,    0.086387,    0.086387,    0.086387,    0.086387,    0.077273,    0.077273,    0.077273,    0.077273,\n",
       "           0.077273,    0.077273,    0.077273,    0.077273,    0.077273,    0.077273,    0.077273,    0.077273,    0.077273,    0.077273,    0.077273,    0.077273,    0.077273,    0.077273,    0.077273,    0.077273,    0.077273,    0.077273,    0.077273,    0.077273,    0.077273,    0.077273,    0.077273,\n",
       "           0.077273,   0.0098204,   0.0098204,   0.0098204,   0.0098204,   0.0098204,   0.0098204,   0.0098204,   0.0098204,   0.0098204,   0.0098204,   0.0098204,   0.0098204,   0.0098204,   0.0098204,   0.0098204,   0.0098204,   0.0098204,   0.0098204,   0.0098204,   0.0098204,   0.0098204,   0.0098204,\n",
       "          0.0098204,   0.0098204,   0.0098204,   0.0098204,   0.0098204,   0.0098204,   0.0065777,   0.0065777,   0.0065777,   0.0065777,   0.0065777,   0.0065777,   0.0065777,   0.0065777,   0.0065777,   0.0065777,   0.0065777,   0.0065777,   0.0065777,   0.0065777,   0.0065777,   0.0065777,   0.0065777,\n",
       "          0.0065777,   0.0065777,   0.0065777,   0.0065777,   0.0065777,   0.0065777,   0.0065777,   0.0065777,   0.0065777,   0.0065777,           0]]), 'Recall', 'Precision'], [array([          0,    0.001001,    0.002002,    0.003003,    0.004004,    0.005005,    0.006006,    0.007007,    0.008008,    0.009009,     0.01001,    0.011011,    0.012012,    0.013013,    0.014014,    0.015015,    0.016016,    0.017017,    0.018018,    0.019019,     0.02002,    0.021021,    0.022022,    0.023023,\n",
       "          0.024024,    0.025025,    0.026026,    0.027027,    0.028028,    0.029029,     0.03003,    0.031031,    0.032032,    0.033033,    0.034034,    0.035035,    0.036036,    0.037037,    0.038038,    0.039039,     0.04004,    0.041041,    0.042042,    0.043043,    0.044044,    0.045045,    0.046046,    0.047047,\n",
       "          0.048048,    0.049049,     0.05005,    0.051051,    0.052052,    0.053053,    0.054054,    0.055055,    0.056056,    0.057057,    0.058058,    0.059059,     0.06006,    0.061061,    0.062062,    0.063063,    0.064064,    0.065065,    0.066066,    0.067067,    0.068068,    0.069069,     0.07007,    0.071071,\n",
       "          0.072072,    0.073073,    0.074074,    0.075075,    0.076076,    0.077077,    0.078078,    0.079079,     0.08008,    0.081081,    0.082082,    0.083083,    0.084084,    0.085085,    0.086086,    0.087087,    0.088088,    0.089089,     0.09009,    0.091091,    0.092092,    0.093093,    0.094094,    0.095095,\n",
       "          0.096096,    0.097097,    0.098098,    0.099099,      0.1001,      0.1011,      0.1021,      0.1031,      0.1041,     0.10511,     0.10611,     0.10711,     0.10811,     0.10911,     0.11011,     0.11111,     0.11211,     0.11311,     0.11411,     0.11512,     0.11612,     0.11712,     0.11812,     0.11912,\n",
       "           0.12012,     0.12112,     0.12212,     0.12312,     0.12412,     0.12513,     0.12613,     0.12713,     0.12813,     0.12913,     0.13013,     0.13113,     0.13213,     0.13313,     0.13413,     0.13514,     0.13614,     0.13714,     0.13814,     0.13914,     0.14014,     0.14114,     0.14214,     0.14314,\n",
       "           0.14414,     0.14515,     0.14615,     0.14715,     0.14815,     0.14915,     0.15015,     0.15115,     0.15215,     0.15315,     0.15415,     0.15516,     0.15616,     0.15716,     0.15816,     0.15916,     0.16016,     0.16116,     0.16216,     0.16316,     0.16416,     0.16517,     0.16617,     0.16717,\n",
       "           0.16817,     0.16917,     0.17017,     0.17117,     0.17217,     0.17317,     0.17417,     0.17518,     0.17618,     0.17718,     0.17818,     0.17918,     0.18018,     0.18118,     0.18218,     0.18318,     0.18418,     0.18519,     0.18619,     0.18719,     0.18819,     0.18919,     0.19019,     0.19119,\n",
       "           0.19219,     0.19319,     0.19419,      0.1952,      0.1962,      0.1972,      0.1982,      0.1992,      0.2002,      0.2012,      0.2022,      0.2032,      0.2042,     0.20521,     0.20621,     0.20721,     0.20821,     0.20921,     0.21021,     0.21121,     0.21221,     0.21321,     0.21421,     0.21522,\n",
       "           0.21622,     0.21722,     0.21822,     0.21922,     0.22022,     0.22122,     0.22222,     0.22322,     0.22422,     0.22523,     0.22623,     0.22723,     0.22823,     0.22923,     0.23023,     0.23123,     0.23223,     0.23323,     0.23423,     0.23524,     0.23624,     0.23724,     0.23824,     0.23924,\n",
       "           0.24024,     0.24124,     0.24224,     0.24324,     0.24424,     0.24525,     0.24625,     0.24725,     0.24825,     0.24925,     0.25025,     0.25125,     0.25225,     0.25325,     0.25425,     0.25526,     0.25626,     0.25726,     0.25826,     0.25926,     0.26026,     0.26126,     0.26226,     0.26326,\n",
       "           0.26426,     0.26527,     0.26627,     0.26727,     0.26827,     0.26927,     0.27027,     0.27127,     0.27227,     0.27327,     0.27427,     0.27528,     0.27628,     0.27728,     0.27828,     0.27928,     0.28028,     0.28128,     0.28228,     0.28328,     0.28428,     0.28529,     0.28629,     0.28729,\n",
       "           0.28829,     0.28929,     0.29029,     0.29129,     0.29229,     0.29329,     0.29429,      0.2953,      0.2963,      0.2973,      0.2983,      0.2993,      0.3003,      0.3013,      0.3023,      0.3033,      0.3043,     0.30531,     0.30631,     0.30731,     0.30831,     0.30931,     0.31031,     0.31131,\n",
       "           0.31231,     0.31331,     0.31431,     0.31532,     0.31632,     0.31732,     0.31832,     0.31932,     0.32032,     0.32132,     0.32232,     0.32332,     0.32432,     0.32533,     0.32633,     0.32733,     0.32833,     0.32933,     0.33033,     0.33133,     0.33233,     0.33333,     0.33433,     0.33534,\n",
       "           0.33634,     0.33734,     0.33834,     0.33934,     0.34034,     0.34134,     0.34234,     0.34334,     0.34434,     0.34535,     0.34635,     0.34735,     0.34835,     0.34935,     0.35035,     0.35135,     0.35235,     0.35335,     0.35435,     0.35536,     0.35636,     0.35736,     0.35836,     0.35936,\n",
       "           0.36036,     0.36136,     0.36236,     0.36336,     0.36436,     0.36537,     0.36637,     0.36737,     0.36837,     0.36937,     0.37037,     0.37137,     0.37237,     0.37337,     0.37437,     0.37538,     0.37638,     0.37738,     0.37838,     0.37938,     0.38038,     0.38138,     0.38238,     0.38338,\n",
       "           0.38438,     0.38539,     0.38639,     0.38739,     0.38839,     0.38939,     0.39039,     0.39139,     0.39239,     0.39339,     0.39439,      0.3954,      0.3964,      0.3974,      0.3984,      0.3994,      0.4004,      0.4014,      0.4024,      0.4034,      0.4044,     0.40541,     0.40641,     0.40741,\n",
       "           0.40841,     0.40941,     0.41041,     0.41141,     0.41241,     0.41341,     0.41441,     0.41542,     0.41642,     0.41742,     0.41842,     0.41942,     0.42042,     0.42142,     0.42242,     0.42342,     0.42442,     0.42543,     0.42643,     0.42743,     0.42843,     0.42943,     0.43043,     0.43143,\n",
       "           0.43243,     0.43343,     0.43443,     0.43544,     0.43644,     0.43744,     0.43844,     0.43944,     0.44044,     0.44144,     0.44244,     0.44344,     0.44444,     0.44545,     0.44645,     0.44745,     0.44845,     0.44945,     0.45045,     0.45145,     0.45245,     0.45345,     0.45445,     0.45546,\n",
       "           0.45646,     0.45746,     0.45846,     0.45946,     0.46046,     0.46146,     0.46246,     0.46346,     0.46446,     0.46547,     0.46647,     0.46747,     0.46847,     0.46947,     0.47047,     0.47147,     0.47247,     0.47347,     0.47447,     0.47548,     0.47648,     0.47748,     0.47848,     0.47948,\n",
       "           0.48048,     0.48148,     0.48248,     0.48348,     0.48448,     0.48549,     0.48649,     0.48749,     0.48849,     0.48949,     0.49049,     0.49149,     0.49249,     0.49349,     0.49449,      0.4955,      0.4965,      0.4975,      0.4985,      0.4995,      0.5005,      0.5015,      0.5025,      0.5035,\n",
       "            0.5045,     0.50551,     0.50651,     0.50751,     0.50851,     0.50951,     0.51051,     0.51151,     0.51251,     0.51351,     0.51451,     0.51552,     0.51652,     0.51752,     0.51852,     0.51952,     0.52052,     0.52152,     0.52252,     0.52352,     0.52452,     0.52553,     0.52653,     0.52753,\n",
       "           0.52853,     0.52953,     0.53053,     0.53153,     0.53253,     0.53353,     0.53453,     0.53554,     0.53654,     0.53754,     0.53854,     0.53954,     0.54054,     0.54154,     0.54254,     0.54354,     0.54454,     0.54555,     0.54655,     0.54755,     0.54855,     0.54955,     0.55055,     0.55155,\n",
       "           0.55255,     0.55355,     0.55455,     0.55556,     0.55656,     0.55756,     0.55856,     0.55956,     0.56056,     0.56156,     0.56256,     0.56356,     0.56456,     0.56557,     0.56657,     0.56757,     0.56857,     0.56957,     0.57057,     0.57157,     0.57257,     0.57357,     0.57457,     0.57558,\n",
       "           0.57658,     0.57758,     0.57858,     0.57958,     0.58058,     0.58158,     0.58258,     0.58358,     0.58458,     0.58559,     0.58659,     0.58759,     0.58859,     0.58959,     0.59059,     0.59159,     0.59259,     0.59359,     0.59459,      0.5956,      0.5966,      0.5976,      0.5986,      0.5996,\n",
       "            0.6006,      0.6016,      0.6026,      0.6036,      0.6046,     0.60561,     0.60661,     0.60761,     0.60861,     0.60961,     0.61061,     0.61161,     0.61261,     0.61361,     0.61461,     0.61562,     0.61662,     0.61762,     0.61862,     0.61962,     0.62062,     0.62162,     0.62262,     0.62362,\n",
       "           0.62462,     0.62563,     0.62663,     0.62763,     0.62863,     0.62963,     0.63063,     0.63163,     0.63263,     0.63363,     0.63463,     0.63564,     0.63664,     0.63764,     0.63864,     0.63964,     0.64064,     0.64164,     0.64264,     0.64364,     0.64464,     0.64565,     0.64665,     0.64765,\n",
       "           0.64865,     0.64965,     0.65065,     0.65165,     0.65265,     0.65365,     0.65465,     0.65566,     0.65666,     0.65766,     0.65866,     0.65966,     0.66066,     0.66166,     0.66266,     0.66366,     0.66466,     0.66567,     0.66667,     0.66767,     0.66867,     0.66967,     0.67067,     0.67167,\n",
       "           0.67267,     0.67367,     0.67467,     0.67568,     0.67668,     0.67768,     0.67868,     0.67968,     0.68068,     0.68168,     0.68268,     0.68368,     0.68468,     0.68569,     0.68669,     0.68769,     0.68869,     0.68969,     0.69069,     0.69169,     0.69269,     0.69369,     0.69469,      0.6957,\n",
       "            0.6967,      0.6977,      0.6987,      0.6997,      0.7007,      0.7017,      0.7027,      0.7037,      0.7047,     0.70571,     0.70671,     0.70771,     0.70871,     0.70971,     0.71071,     0.71171,     0.71271,     0.71371,     0.71471,     0.71572,     0.71672,     0.71772,     0.71872,     0.71972,\n",
       "           0.72072,     0.72172,     0.72272,     0.72372,     0.72472,     0.72573,     0.72673,     0.72773,     0.72873,     0.72973,     0.73073,     0.73173,     0.73273,     0.73373,     0.73473,     0.73574,     0.73674,     0.73774,     0.73874,     0.73974,     0.74074,     0.74174,     0.74274,     0.74374,\n",
       "           0.74474,     0.74575,     0.74675,     0.74775,     0.74875,     0.74975,     0.75075,     0.75175,     0.75275,     0.75375,     0.75475,     0.75576,     0.75676,     0.75776,     0.75876,     0.75976,     0.76076,     0.76176,     0.76276,     0.76376,     0.76476,     0.76577,     0.76677,     0.76777,\n",
       "           0.76877,     0.76977,     0.77077,     0.77177,     0.77277,     0.77377,     0.77477,     0.77578,     0.77678,     0.77778,     0.77878,     0.77978,     0.78078,     0.78178,     0.78278,     0.78378,     0.78478,     0.78579,     0.78679,     0.78779,     0.78879,     0.78979,     0.79079,     0.79179,\n",
       "           0.79279,     0.79379,     0.79479,      0.7958,      0.7968,      0.7978,      0.7988,      0.7998,      0.8008,      0.8018,      0.8028,      0.8038,      0.8048,     0.80581,     0.80681,     0.80781,     0.80881,     0.80981,     0.81081,     0.81181,     0.81281,     0.81381,     0.81481,     0.81582,\n",
       "           0.81682,     0.81782,     0.81882,     0.81982,     0.82082,     0.82182,     0.82282,     0.82382,     0.82482,     0.82583,     0.82683,     0.82783,     0.82883,     0.82983,     0.83083,     0.83183,     0.83283,     0.83383,     0.83483,     0.83584,     0.83684,     0.83784,     0.83884,     0.83984,\n",
       "           0.84084,     0.84184,     0.84284,     0.84384,     0.84484,     0.84585,     0.84685,     0.84785,     0.84885,     0.84985,     0.85085,     0.85185,     0.85285,     0.85385,     0.85485,     0.85586,     0.85686,     0.85786,     0.85886,     0.85986,     0.86086,     0.86186,     0.86286,     0.86386,\n",
       "           0.86486,     0.86587,     0.86687,     0.86787,     0.86887,     0.86987,     0.87087,     0.87187,     0.87287,     0.87387,     0.87487,     0.87588,     0.87688,     0.87788,     0.87888,     0.87988,     0.88088,     0.88188,     0.88288,     0.88388,     0.88488,     0.88589,     0.88689,     0.88789,\n",
       "           0.88889,     0.88989,     0.89089,     0.89189,     0.89289,     0.89389,     0.89489,      0.8959,      0.8969,      0.8979,      0.8989,      0.8999,      0.9009,      0.9019,      0.9029,      0.9039,      0.9049,     0.90591,     0.90691,     0.90791,     0.90891,     0.90991,     0.91091,     0.91191,\n",
       "           0.91291,     0.91391,     0.91491,     0.91592,     0.91692,     0.91792,     0.91892,     0.91992,     0.92092,     0.92192,     0.92292,     0.92392,     0.92492,     0.92593,     0.92693,     0.92793,     0.92893,     0.92993,     0.93093,     0.93193,     0.93293,     0.93393,     0.93493,     0.93594,\n",
       "           0.93694,     0.93794,     0.93894,     0.93994,     0.94094,     0.94194,     0.94294,     0.94394,     0.94494,     0.94595,     0.94695,     0.94795,     0.94895,     0.94995,     0.95095,     0.95195,     0.95295,     0.95395,     0.95495,     0.95596,     0.95696,     0.95796,     0.95896,     0.95996,\n",
       "           0.96096,     0.96196,     0.96296,     0.96396,     0.96496,     0.96597,     0.96697,     0.96797,     0.96897,     0.96997,     0.97097,     0.97197,     0.97297,     0.97397,     0.97497,     0.97598,     0.97698,     0.97798,     0.97898,     0.97998,     0.98098,     0.98198,     0.98298,     0.98398,\n",
       "           0.98498,     0.98599,     0.98699,     0.98799,     0.98899,     0.98999,     0.99099,     0.99199,     0.99299,     0.99399,     0.99499,       0.996,       0.997,       0.998,       0.999,           1]), array([[   0.012552,    0.012552,    0.012552,    0.012821,    0.013031,      0.0143,    0.015826,     0.01752,    0.019347,    0.020641,    0.022603,    0.024957,    0.027372,     0.03039,    0.033822,    0.037023,    0.041583,    0.045822,    0.050534,    0.054745,    0.060178,    0.065725,     0.07076,\n",
       "           0.074832,    0.078862,    0.082504,    0.086811,    0.091154,    0.094616,    0.099268,     0.10334,     0.10637,     0.11002,     0.11266,     0.11724,      0.1204,     0.12395,     0.12705,     0.13247,     0.13601,      0.1387,     0.14213,     0.13987,     0.14337,      0.1467,     0.14823,\n",
       "            0.15167,     0.15331,      0.1566,     0.15442,     0.15613,     0.15709,     0.15875,      0.1603,     0.16291,     0.16696,     0.16867,     0.17059,     0.17146,     0.17472,     0.17773,     0.17973,     0.18246,     0.18562,     0.18799,     0.19044,     0.19242,     0.19321,     0.19521,\n",
       "            0.19273,     0.19408,     0.19691,     0.20208,     0.20441,     0.20713,     0.20831,     0.21076,     0.21291,      0.2147,     0.21546,     0.21657,     0.21846,      0.2196,     0.22178,     0.22514,     0.22675,     0.22742,     0.22793,     0.22947,     0.23198,      0.2368,     0.23873,\n",
       "            0.23925,     0.23985,     0.24246,     0.24405,     0.24715,     0.24782,     0.24919,     0.24954,     0.24989,     0.25136,     0.25379,      0.2553,     0.25602,     0.25754,     0.25845,     0.25938,     0.26219,     0.26514,     0.26581,     0.26901,     0.27161,     0.27328,      0.2746,\n",
       "            0.27558,     0.27588,     0.27618,     0.27648,     0.27678,     0.27838,     0.27885,     0.27955,     0.28327,      0.2839,     0.28657,     0.28793,     0.28978,     0.29118,     0.29165,     0.29212,     0.29413,     0.29557,      0.2981,     0.29834,     0.29859,     0.29884,     0.29909,\n",
       "            0.29933,     0.30012,     0.30276,     0.30382,     0.30436,     0.30484,     0.30532,     0.30722,     0.30769,     0.30817,     0.30891,     0.31005,     0.31377,     0.31634,     0.31731,     0.31847,     0.31996,     0.32151,     0.32335,     0.32424,     0.32513,     0.32602,     0.33117,\n",
       "            0.33259,     0.33739,     0.33897,     0.33263,     0.33365,     0.33405,     0.33445,     0.33485,     0.33653,     0.33758,      0.3381,     0.33862,     0.33938,     0.34069,     0.34637,     0.34766,     0.34867,     0.35011,     0.35378,     0.35602,     0.36024,     0.36157,     0.36178,\n",
       "            0.36199,      0.3622,      0.3624,     0.36261,     0.36282,     0.36302,     0.36323,     0.36344,      0.3637,     0.36531,     0.36655,      0.3676,     0.36854,     0.36938,     0.37021,     0.37229,     0.37354,     0.37457,     0.37771,     0.37912,     0.38254,     0.38384,      0.3872,\n",
       "            0.38896,     0.38991,     0.39038,     0.39085,     0.39132,     0.39179,     0.39224,     0.39262,     0.39301,      0.3934,     0.39378,     0.39417,     0.39455,     0.39622,     0.39799,     0.39904,     0.40013,     0.40165,     0.40332,     0.40531,     0.40708,     0.41286,      0.4183,\n",
       "            0.42007,     0.42148,     0.42286,     0.42415,     0.42543,     0.42636,     0.42726,     0.42815,     0.42963,     0.43162,      0.4321,     0.43256,     0.43302,     0.43347,     0.43393,     0.43438,     0.43484,     0.43533,     0.43581,      0.4363,     0.43679,     0.43727,     0.43776,\n",
       "            0.44052,     0.44403,     0.44762,     0.44845,     0.44917,     0.44989,     0.45061,     0.45174,     0.45399,     0.44358,     0.44657,     0.44747,     0.44837,     0.44927,     0.44993,     0.45043,     0.45094,     0.45144,     0.45195,     0.45245,     0.45296,     0.45491,     0.45736,\n",
       "            0.45939,     0.46159,     0.46393,     0.46279,     0.46154,     0.46029,     0.45904,     0.45779,     0.45653,     0.45528,     0.45403,     0.45278,     0.45196,     0.45775,     0.46199,     0.46435,     0.46633,     0.46745,      0.4684,     0.46935,     0.47029,       0.471,      0.4716,\n",
       "            0.47219,     0.47279,     0.47338,     0.47398,     0.47457,     0.47554,     0.47652,      0.4775,     0.47848,      0.4828,     0.48304,     0.48329,     0.48353,     0.48377,     0.48401,     0.48425,      0.4845,     0.48474,     0.48498,     0.48522,     0.48546,      0.4857,     0.48594,\n",
       "            0.48618,     0.48642,     0.48666,      0.4869,     0.48986,      0.4921,     0.49349,     0.49488,     0.49575,     0.49611,     0.49647,     0.49683,     0.49718,     0.49754,      0.4979,     0.49825,     0.49861,     0.49896,     0.49932,     0.49967,     0.50452,     0.50476,     0.50501,\n",
       "            0.50526,     0.50551,     0.50575,       0.506,     0.50625,     0.50649,     0.50674,     0.50699,     0.50723,     0.50748,     0.50773,     0.50797,     0.50822,     0.50846,     0.50871,     0.50896,     0.50968,       0.511,     0.51231,     0.51362,     0.51453,     0.50892,     0.50549,\n",
       "            0.50884,     0.51125,     0.51344,     0.51451,     0.51486,     0.51522,     0.51558,     0.51594,      0.5163,     0.51665,     0.51701,     0.51737,     0.51772,     0.51808,     0.51844,     0.51879,     0.51915,     0.52145,     0.52428,      0.5247,     0.52511,     0.52553,     0.52595,\n",
       "            0.52636,     0.52678,     0.52719,     0.52761,     0.52802,     0.52844,     0.52885,     0.52926,     0.53047,     0.53211,     0.53374,      0.5401,     0.54071,     0.54132,     0.54192,     0.54253,     0.54314,     0.54374,     0.54435,     0.54495,     0.54559,     0.54643,     0.54727,\n",
       "             0.5481,     0.54894,     0.54977,      0.5506,     0.55144,      0.5523,     0.55316,     0.55401,     0.55487,     0.55572,     0.55657,     0.55778,     0.55904,      0.5603,     0.56155,     0.56265,     0.56327,     0.56389,     0.56451,     0.56513,     0.56575,     0.56637,     0.56699,\n",
       "             0.5676,     0.56822,     0.56866,     0.56901,     0.56937,     0.56972,     0.57008,     0.57043,     0.57079,     0.57114,      0.5715,     0.57185,      0.5722,     0.57255,     0.57291,     0.57326,     0.57361,     0.57396,     0.57431,      0.5808,     0.58152,     0.58225,     0.58297,\n",
       "            0.58369,     0.58442,     0.58514,     0.58585,     0.58657,     0.58794,     0.59004,     0.59213,     0.59356,     0.59397,     0.59438,     0.59478,     0.59519,     0.59559,       0.596,      0.5964,      0.5968,     0.59721,     0.59761,     0.59801,     0.59841,     0.59882,     0.59922,\n",
       "            0.59962,     0.59996,       0.599,     0.59804,     0.59708,     0.59613,     0.59517,     0.59421,     0.59325,     0.59229,     0.59133,     0.59037,     0.58941,     0.58845,     0.58748,     0.58652,     0.58556,      0.5846,      0.5908,     0.58962,     0.58845,     0.58728,      0.5861,\n",
       "            0.58493,     0.58375,     0.58258,      0.5814,     0.58022,     0.57905,     0.57787,     0.57669,     0.57551,     0.57506,     0.57612,     0.57717,     0.57822,     0.57927,     0.58032,     0.58137,     0.58156,     0.58172,     0.58188,     0.58205,     0.58221,     0.58238,     0.58254,\n",
       "             0.5827,     0.58287,     0.58303,     0.58319,     0.58336,     0.58352,     0.58368,     0.58385,     0.58401,     0.58417,     0.58434,      0.5845,     0.58466,     0.58483,     0.58499,     0.58515,     0.58531,     0.58548,     0.58564,      0.5858,     0.58596,     0.58613,     0.58629,\n",
       "            0.58645,     0.58661,     0.58678,     0.58694,      0.5871,     0.58726,     0.58742,     0.58759,     0.58775,     0.58791,     0.58807,     0.58823,      0.5887,     0.58917,     0.58964,     0.59012,     0.59059,     0.59106,     0.59153,       0.592,     0.59247,     0.59293,      0.5934,\n",
       "            0.59387,     0.59434,      0.5948,     0.59527,     0.59577,     0.59626,     0.59675,     0.59725,     0.59774,     0.59823,     0.59872,     0.59922,     0.59971,      0.6002,     0.60068,     0.60117,     0.60166,     0.60215,     0.60268,     0.60326,     0.60384,     0.60442,     0.60499,\n",
       "            0.60557,     0.60615,     0.60672,     0.60729,     0.60787,     0.60844,     0.60901,     0.60958,     0.61002,      0.6104,     0.61078,     0.61116,     0.61154,     0.61192,      0.6123,     0.61268,     0.61306,     0.61343,     0.61381,     0.61419,     0.61456,     0.61494,     0.61532,\n",
       "            0.61569,     0.61607,     0.61644,     0.61682,     0.61719,     0.61782,     0.61854,     0.61925,     0.61996,     0.62067,     0.62138,     0.62209,      0.6228,      0.6235,     0.62421,     0.62491,     0.62573,     0.62656,     0.62739,     0.62821,     0.62904,     0.62986,     0.63068,\n",
       "            0.63151,     0.63232,     0.63323,     0.63438,     0.63552,     0.63666,     0.63779,     0.63892,     0.64005,      0.6412,     0.64249,     0.64378,     0.64506,     0.64634,     0.64762,     0.64889,     0.64977,     0.65044,      0.6511,     0.65177,     0.65243,     0.65309,     0.65375,\n",
       "            0.65441,     0.65507,     0.65573,     0.65638,     0.65704,     0.65769,     0.64609,     0.64027,     0.64069,     0.64111,     0.64153,     0.64195,     0.64236,     0.64278,     0.64319,     0.64361,     0.64403,     0.64444,     0.64485,     0.64527,     0.64568,     0.64609,     0.64651,\n",
       "            0.64692,     0.64733,     0.64774,     0.64815,     0.64856,     0.64877,     0.64893,     0.64908,     0.64924,      0.6494,     0.64955,     0.64971,     0.64986,     0.65002,     0.65018,     0.65033,     0.65049,     0.65064,      0.6508,     0.65095,     0.65111,     0.65127,     0.65142,\n",
       "            0.65158,     0.65173,     0.65189,     0.65204,      0.6522,     0.65235,     0.65251,     0.65266,     0.65282,     0.65297,     0.65312,     0.65328,     0.65343,     0.65359,     0.65374,      0.6539,     0.65405,      0.6542,     0.65436,     0.65451,     0.65467,     0.65482,     0.65497,\n",
       "            0.65513,     0.65528,     0.65543,     0.65559,     0.65574,     0.65589,     0.65605,      0.6562,     0.65635,     0.65651,     0.65666,     0.65681,     0.65696,     0.65712,     0.65727,     0.65742,     0.66546,     0.66617,     0.66564,     0.66512,      0.6646,     0.66408,     0.66355,\n",
       "            0.66303,      0.6625,     0.66198,     0.66146,     0.66093,     0.66041,     0.65988,     0.65936,     0.65883,     0.65831,     0.65778,     0.65726,     0.65673,     0.65621,     0.65568,     0.65515,     0.65463,      0.6541,     0.65357,     0.65304,     0.65252,     0.65199,     0.65146,\n",
       "            0.65093,      0.6504,     0.64988,     0.64935,     0.64882,     0.64829,     0.64908,       0.654,      0.6582,     0.66119,     0.66414,     0.66603,     0.66141,     0.65678,     0.65214,     0.64747,     0.64734,     0.64764,     0.64795,     0.64825,     0.64856,     0.64886,     0.64917,\n",
       "            0.64947,     0.64977,     0.65008,     0.65038,     0.65068,     0.65099,     0.65129,     0.65159,     0.65189,     0.65219,     0.65249,     0.65279,     0.65309,     0.65339,     0.65369,     0.65399,     0.65429,     0.65459,     0.65488,     0.65518,     0.65548,     0.65578,     0.65607,\n",
       "            0.65637,     0.65667,     0.65734,      0.6581,     0.65885,      0.6596,     0.66034,     0.66109,     0.66183,     0.66257,     0.66331,     0.66405,     0.66479,     0.66552,     0.66625,     0.64727,     0.65282,     0.64306,       0.635,     0.63545,     0.63589,     0.63634,     0.63679,\n",
       "            0.63723,     0.63768,     0.63812,     0.63856,       0.639,     0.63944,     0.63988,     0.64032,     0.64076,      0.6412,     0.64164,     0.64207,     0.64251,     0.64294,     0.64338,     0.64381,     0.64424,     0.64467,      0.6451,     0.63936,      0.6326,      0.6258,     0.62079,\n",
       "            0.61708,     0.61336,     0.60962,     0.60587,     0.60211,     0.59915,     0.59722,     0.59528,     0.59334,     0.59139,     0.58944,     0.58749,     0.58554,     0.58358,     0.58162,     0.57965,     0.57768,     0.57639,      0.5768,     0.57722,     0.57763,     0.57804,     0.57845,\n",
       "            0.57887,     0.57927,     0.57968,     0.58009,      0.5805,      0.5809,     0.58131,     0.58171,     0.58212,     0.58252,     0.58292,     0.58332,     0.58372,     0.58412,     0.58452,     0.58491,     0.58531,      0.5857,      0.5861,     0.56396,     0.56207,     0.56278,      0.5635,\n",
       "            0.56421,     0.56492,     0.56563,     0.56633,     0.56703,     0.56773,     0.56842,     0.56911,      0.5698,     0.57049,     0.57117,     0.57322,     0.57607,     0.57887,     0.58161,     0.56831,     0.55205,     0.52718,     0.51092,     0.49907,      0.4963,     0.49353,     0.49074,\n",
       "            0.48795,     0.48516,     0.48235,     0.47954,     0.47672,     0.47389,     0.47105,     0.47205,     0.47377,     0.47546,     0.47713,     0.47876,     0.47704,       0.464,     0.45078,     0.44935,     0.44978,      0.4502,     0.45062,     0.45104,     0.45146,     0.45188,     0.45229,\n",
       "             0.4527,     0.45311,     0.45352,     0.45393,     0.45433,     0.45473,     0.45513,     0.45552,     0.45592,     0.45631,      0.4567,     0.45709,     0.45748,     0.45786,     0.45825,     0.41921,     0.40629,     0.39319,      0.3546,     0.35095,     0.34728,      0.3436,      0.3399,\n",
       "            0.33619,     0.33247,     0.32873,     0.32498,     0.32121,     0.27956,     0.19709,     0.13696,      0.1028,     0.10506,           0]]), 'Confidence', 'F1'], [array([          0,    0.001001,    0.002002,    0.003003,    0.004004,    0.005005,    0.006006,    0.007007,    0.008008,    0.009009,     0.01001,    0.011011,    0.012012,    0.013013,    0.014014,    0.015015,    0.016016,    0.017017,    0.018018,    0.019019,     0.02002,    0.021021,    0.022022,    0.023023,\n",
       "          0.024024,    0.025025,    0.026026,    0.027027,    0.028028,    0.029029,     0.03003,    0.031031,    0.032032,    0.033033,    0.034034,    0.035035,    0.036036,    0.037037,    0.038038,    0.039039,     0.04004,    0.041041,    0.042042,    0.043043,    0.044044,    0.045045,    0.046046,    0.047047,\n",
       "          0.048048,    0.049049,     0.05005,    0.051051,    0.052052,    0.053053,    0.054054,    0.055055,    0.056056,    0.057057,    0.058058,    0.059059,     0.06006,    0.061061,    0.062062,    0.063063,    0.064064,    0.065065,    0.066066,    0.067067,    0.068068,    0.069069,     0.07007,    0.071071,\n",
       "          0.072072,    0.073073,    0.074074,    0.075075,    0.076076,    0.077077,    0.078078,    0.079079,     0.08008,    0.081081,    0.082082,    0.083083,    0.084084,    0.085085,    0.086086,    0.087087,    0.088088,    0.089089,     0.09009,    0.091091,    0.092092,    0.093093,    0.094094,    0.095095,\n",
       "          0.096096,    0.097097,    0.098098,    0.099099,      0.1001,      0.1011,      0.1021,      0.1031,      0.1041,     0.10511,     0.10611,     0.10711,     0.10811,     0.10911,     0.11011,     0.11111,     0.11211,     0.11311,     0.11411,     0.11512,     0.11612,     0.11712,     0.11812,     0.11912,\n",
       "           0.12012,     0.12112,     0.12212,     0.12312,     0.12412,     0.12513,     0.12613,     0.12713,     0.12813,     0.12913,     0.13013,     0.13113,     0.13213,     0.13313,     0.13413,     0.13514,     0.13614,     0.13714,     0.13814,     0.13914,     0.14014,     0.14114,     0.14214,     0.14314,\n",
       "           0.14414,     0.14515,     0.14615,     0.14715,     0.14815,     0.14915,     0.15015,     0.15115,     0.15215,     0.15315,     0.15415,     0.15516,     0.15616,     0.15716,     0.15816,     0.15916,     0.16016,     0.16116,     0.16216,     0.16316,     0.16416,     0.16517,     0.16617,     0.16717,\n",
       "           0.16817,     0.16917,     0.17017,     0.17117,     0.17217,     0.17317,     0.17417,     0.17518,     0.17618,     0.17718,     0.17818,     0.17918,     0.18018,     0.18118,     0.18218,     0.18318,     0.18418,     0.18519,     0.18619,     0.18719,     0.18819,     0.18919,     0.19019,     0.19119,\n",
       "           0.19219,     0.19319,     0.19419,      0.1952,      0.1962,      0.1972,      0.1982,      0.1992,      0.2002,      0.2012,      0.2022,      0.2032,      0.2042,     0.20521,     0.20621,     0.20721,     0.20821,     0.20921,     0.21021,     0.21121,     0.21221,     0.21321,     0.21421,     0.21522,\n",
       "           0.21622,     0.21722,     0.21822,     0.21922,     0.22022,     0.22122,     0.22222,     0.22322,     0.22422,     0.22523,     0.22623,     0.22723,     0.22823,     0.22923,     0.23023,     0.23123,     0.23223,     0.23323,     0.23423,     0.23524,     0.23624,     0.23724,     0.23824,     0.23924,\n",
       "           0.24024,     0.24124,     0.24224,     0.24324,     0.24424,     0.24525,     0.24625,     0.24725,     0.24825,     0.24925,     0.25025,     0.25125,     0.25225,     0.25325,     0.25425,     0.25526,     0.25626,     0.25726,     0.25826,     0.25926,     0.26026,     0.26126,     0.26226,     0.26326,\n",
       "           0.26426,     0.26527,     0.26627,     0.26727,     0.26827,     0.26927,     0.27027,     0.27127,     0.27227,     0.27327,     0.27427,     0.27528,     0.27628,     0.27728,     0.27828,     0.27928,     0.28028,     0.28128,     0.28228,     0.28328,     0.28428,     0.28529,     0.28629,     0.28729,\n",
       "           0.28829,     0.28929,     0.29029,     0.29129,     0.29229,     0.29329,     0.29429,      0.2953,      0.2963,      0.2973,      0.2983,      0.2993,      0.3003,      0.3013,      0.3023,      0.3033,      0.3043,     0.30531,     0.30631,     0.30731,     0.30831,     0.30931,     0.31031,     0.31131,\n",
       "           0.31231,     0.31331,     0.31431,     0.31532,     0.31632,     0.31732,     0.31832,     0.31932,     0.32032,     0.32132,     0.32232,     0.32332,     0.32432,     0.32533,     0.32633,     0.32733,     0.32833,     0.32933,     0.33033,     0.33133,     0.33233,     0.33333,     0.33433,     0.33534,\n",
       "           0.33634,     0.33734,     0.33834,     0.33934,     0.34034,     0.34134,     0.34234,     0.34334,     0.34434,     0.34535,     0.34635,     0.34735,     0.34835,     0.34935,     0.35035,     0.35135,     0.35235,     0.35335,     0.35435,     0.35536,     0.35636,     0.35736,     0.35836,     0.35936,\n",
       "           0.36036,     0.36136,     0.36236,     0.36336,     0.36436,     0.36537,     0.36637,     0.36737,     0.36837,     0.36937,     0.37037,     0.37137,     0.37237,     0.37337,     0.37437,     0.37538,     0.37638,     0.37738,     0.37838,     0.37938,     0.38038,     0.38138,     0.38238,     0.38338,\n",
       "           0.38438,     0.38539,     0.38639,     0.38739,     0.38839,     0.38939,     0.39039,     0.39139,     0.39239,     0.39339,     0.39439,      0.3954,      0.3964,      0.3974,      0.3984,      0.3994,      0.4004,      0.4014,      0.4024,      0.4034,      0.4044,     0.40541,     0.40641,     0.40741,\n",
       "           0.40841,     0.40941,     0.41041,     0.41141,     0.41241,     0.41341,     0.41441,     0.41542,     0.41642,     0.41742,     0.41842,     0.41942,     0.42042,     0.42142,     0.42242,     0.42342,     0.42442,     0.42543,     0.42643,     0.42743,     0.42843,     0.42943,     0.43043,     0.43143,\n",
       "           0.43243,     0.43343,     0.43443,     0.43544,     0.43644,     0.43744,     0.43844,     0.43944,     0.44044,     0.44144,     0.44244,     0.44344,     0.44444,     0.44545,     0.44645,     0.44745,     0.44845,     0.44945,     0.45045,     0.45145,     0.45245,     0.45345,     0.45445,     0.45546,\n",
       "           0.45646,     0.45746,     0.45846,     0.45946,     0.46046,     0.46146,     0.46246,     0.46346,     0.46446,     0.46547,     0.46647,     0.46747,     0.46847,     0.46947,     0.47047,     0.47147,     0.47247,     0.47347,     0.47447,     0.47548,     0.47648,     0.47748,     0.47848,     0.47948,\n",
       "           0.48048,     0.48148,     0.48248,     0.48348,     0.48448,     0.48549,     0.48649,     0.48749,     0.48849,     0.48949,     0.49049,     0.49149,     0.49249,     0.49349,     0.49449,      0.4955,      0.4965,      0.4975,      0.4985,      0.4995,      0.5005,      0.5015,      0.5025,      0.5035,\n",
       "            0.5045,     0.50551,     0.50651,     0.50751,     0.50851,     0.50951,     0.51051,     0.51151,     0.51251,     0.51351,     0.51451,     0.51552,     0.51652,     0.51752,     0.51852,     0.51952,     0.52052,     0.52152,     0.52252,     0.52352,     0.52452,     0.52553,     0.52653,     0.52753,\n",
       "           0.52853,     0.52953,     0.53053,     0.53153,     0.53253,     0.53353,     0.53453,     0.53554,     0.53654,     0.53754,     0.53854,     0.53954,     0.54054,     0.54154,     0.54254,     0.54354,     0.54454,     0.54555,     0.54655,     0.54755,     0.54855,     0.54955,     0.55055,     0.55155,\n",
       "           0.55255,     0.55355,     0.55455,     0.55556,     0.55656,     0.55756,     0.55856,     0.55956,     0.56056,     0.56156,     0.56256,     0.56356,     0.56456,     0.56557,     0.56657,     0.56757,     0.56857,     0.56957,     0.57057,     0.57157,     0.57257,     0.57357,     0.57457,     0.57558,\n",
       "           0.57658,     0.57758,     0.57858,     0.57958,     0.58058,     0.58158,     0.58258,     0.58358,     0.58458,     0.58559,     0.58659,     0.58759,     0.58859,     0.58959,     0.59059,     0.59159,     0.59259,     0.59359,     0.59459,      0.5956,      0.5966,      0.5976,      0.5986,      0.5996,\n",
       "            0.6006,      0.6016,      0.6026,      0.6036,      0.6046,     0.60561,     0.60661,     0.60761,     0.60861,     0.60961,     0.61061,     0.61161,     0.61261,     0.61361,     0.61461,     0.61562,     0.61662,     0.61762,     0.61862,     0.61962,     0.62062,     0.62162,     0.62262,     0.62362,\n",
       "           0.62462,     0.62563,     0.62663,     0.62763,     0.62863,     0.62963,     0.63063,     0.63163,     0.63263,     0.63363,     0.63463,     0.63564,     0.63664,     0.63764,     0.63864,     0.63964,     0.64064,     0.64164,     0.64264,     0.64364,     0.64464,     0.64565,     0.64665,     0.64765,\n",
       "           0.64865,     0.64965,     0.65065,     0.65165,     0.65265,     0.65365,     0.65465,     0.65566,     0.65666,     0.65766,     0.65866,     0.65966,     0.66066,     0.66166,     0.66266,     0.66366,     0.66466,     0.66567,     0.66667,     0.66767,     0.66867,     0.66967,     0.67067,     0.67167,\n",
       "           0.67267,     0.67367,     0.67467,     0.67568,     0.67668,     0.67768,     0.67868,     0.67968,     0.68068,     0.68168,     0.68268,     0.68368,     0.68468,     0.68569,     0.68669,     0.68769,     0.68869,     0.68969,     0.69069,     0.69169,     0.69269,     0.69369,     0.69469,      0.6957,\n",
       "            0.6967,      0.6977,      0.6987,      0.6997,      0.7007,      0.7017,      0.7027,      0.7037,      0.7047,     0.70571,     0.70671,     0.70771,     0.70871,     0.70971,     0.71071,     0.71171,     0.71271,     0.71371,     0.71471,     0.71572,     0.71672,     0.71772,     0.71872,     0.71972,\n",
       "           0.72072,     0.72172,     0.72272,     0.72372,     0.72472,     0.72573,     0.72673,     0.72773,     0.72873,     0.72973,     0.73073,     0.73173,     0.73273,     0.73373,     0.73473,     0.73574,     0.73674,     0.73774,     0.73874,     0.73974,     0.74074,     0.74174,     0.74274,     0.74374,\n",
       "           0.74474,     0.74575,     0.74675,     0.74775,     0.74875,     0.74975,     0.75075,     0.75175,     0.75275,     0.75375,     0.75475,     0.75576,     0.75676,     0.75776,     0.75876,     0.75976,     0.76076,     0.76176,     0.76276,     0.76376,     0.76476,     0.76577,     0.76677,     0.76777,\n",
       "           0.76877,     0.76977,     0.77077,     0.77177,     0.77277,     0.77377,     0.77477,     0.77578,     0.77678,     0.77778,     0.77878,     0.77978,     0.78078,     0.78178,     0.78278,     0.78378,     0.78478,     0.78579,     0.78679,     0.78779,     0.78879,     0.78979,     0.79079,     0.79179,\n",
       "           0.79279,     0.79379,     0.79479,      0.7958,      0.7968,      0.7978,      0.7988,      0.7998,      0.8008,      0.8018,      0.8028,      0.8038,      0.8048,     0.80581,     0.80681,     0.80781,     0.80881,     0.80981,     0.81081,     0.81181,     0.81281,     0.81381,     0.81481,     0.81582,\n",
       "           0.81682,     0.81782,     0.81882,     0.81982,     0.82082,     0.82182,     0.82282,     0.82382,     0.82482,     0.82583,     0.82683,     0.82783,     0.82883,     0.82983,     0.83083,     0.83183,     0.83283,     0.83383,     0.83483,     0.83584,     0.83684,     0.83784,     0.83884,     0.83984,\n",
       "           0.84084,     0.84184,     0.84284,     0.84384,     0.84484,     0.84585,     0.84685,     0.84785,     0.84885,     0.84985,     0.85085,     0.85185,     0.85285,     0.85385,     0.85485,     0.85586,     0.85686,     0.85786,     0.85886,     0.85986,     0.86086,     0.86186,     0.86286,     0.86386,\n",
       "           0.86486,     0.86587,     0.86687,     0.86787,     0.86887,     0.86987,     0.87087,     0.87187,     0.87287,     0.87387,     0.87487,     0.87588,     0.87688,     0.87788,     0.87888,     0.87988,     0.88088,     0.88188,     0.88288,     0.88388,     0.88488,     0.88589,     0.88689,     0.88789,\n",
       "           0.88889,     0.88989,     0.89089,     0.89189,     0.89289,     0.89389,     0.89489,      0.8959,      0.8969,      0.8979,      0.8989,      0.8999,      0.9009,      0.9019,      0.9029,      0.9039,      0.9049,     0.90591,     0.90691,     0.90791,     0.90891,     0.90991,     0.91091,     0.91191,\n",
       "           0.91291,     0.91391,     0.91491,     0.91592,     0.91692,     0.91792,     0.91892,     0.91992,     0.92092,     0.92192,     0.92292,     0.92392,     0.92492,     0.92593,     0.92693,     0.92793,     0.92893,     0.92993,     0.93093,     0.93193,     0.93293,     0.93393,     0.93493,     0.93594,\n",
       "           0.93694,     0.93794,     0.93894,     0.93994,     0.94094,     0.94194,     0.94294,     0.94394,     0.94494,     0.94595,     0.94695,     0.94795,     0.94895,     0.94995,     0.95095,     0.95195,     0.95295,     0.95395,     0.95495,     0.95596,     0.95696,     0.95796,     0.95896,     0.95996,\n",
       "           0.96096,     0.96196,     0.96296,     0.96396,     0.96496,     0.96597,     0.96697,     0.96797,     0.96897,     0.96997,     0.97097,     0.97197,     0.97297,     0.97397,     0.97497,     0.97598,     0.97698,     0.97798,     0.97898,     0.97998,     0.98098,     0.98198,     0.98298,     0.98398,\n",
       "           0.98498,     0.98599,     0.98699,     0.98799,     0.98899,     0.98999,     0.99099,     0.99199,     0.99299,     0.99399,     0.99499,       0.996,       0.997,       0.998,       0.999,           1]), array([[  0.0063158,   0.0063158,   0.0063158,   0.0064516,   0.0065593,   0.0072028,    0.007978,   0.0088397,   0.0097709,    0.010434,    0.011439,    0.012646,    0.013887,    0.015444,     0.01722,    0.018882,     0.02126,    0.023481,    0.025962,     0.02819,    0.031079,    0.034047,    0.036757,\n",
       "           0.038959,    0.041149,    0.043136,    0.045496,    0.047888,    0.049803,    0.052387,    0.054661,     0.05636,    0.058413,    0.059905,      0.0625,    0.064298,    0.066327,    0.068104,    0.071233,    0.073284,    0.074848,     0.07685,    0.075712,    0.077768,    0.079727,    0.080636,\n",
       "           0.082673,    0.083651,    0.085612,    0.084504,    0.085583,    0.086159,    0.087158,    0.088092,    0.089674,    0.092135,    0.093177,    0.094351,    0.094883,    0.096884,    0.098737,    0.099975,     0.10166,     0.10363,     0.10511,     0.10664,     0.10789,     0.10838,     0.10964,\n",
       "            0.10851,     0.10936,     0.11117,     0.11447,     0.11597,     0.11772,     0.11849,     0.12007,     0.12147,     0.12264,     0.12314,     0.12386,      0.1251,     0.12585,     0.12728,      0.1295,     0.13056,     0.13101,     0.13135,     0.13237,     0.13404,     0.13728,     0.13857,\n",
       "            0.13893,     0.13933,     0.14109,     0.14217,     0.14428,     0.14473,     0.14567,     0.14591,     0.14615,     0.14716,     0.14883,     0.14986,     0.15036,     0.15141,     0.15204,     0.15268,     0.15464,     0.15669,     0.15716,      0.1594,     0.16124,     0.16241,     0.16334,\n",
       "            0.16404,     0.16425,     0.16446,     0.16468,     0.16489,     0.16603,     0.16636,     0.16686,     0.16952,     0.16997,     0.17189,     0.17286,      0.1742,     0.17521,     0.17555,     0.17589,     0.17736,     0.17841,     0.18025,     0.18043,     0.18061,     0.18079,     0.18097,\n",
       "            0.18115,     0.18173,     0.18367,     0.18445,     0.18485,      0.1852,     0.18556,     0.18696,     0.18731,     0.18767,     0.18821,     0.18906,     0.19184,     0.19376,     0.19449,     0.19536,     0.19648,     0.19765,     0.19904,     0.19972,      0.2004,     0.20107,       0.205,\n",
       "            0.20609,     0.20979,     0.21101,     0.20779,     0.20858,     0.20889,     0.20921,     0.20952,     0.21084,     0.21166,     0.21207,     0.21248,     0.21308,     0.21411,     0.21862,     0.21965,     0.22045,     0.22161,     0.22456,     0.22636,     0.22979,     0.23087,     0.23104,\n",
       "            0.23121,     0.23138,     0.23155,     0.23172,     0.23189,     0.23206,     0.23223,      0.2324,     0.23261,     0.23393,     0.23495,     0.23581,     0.23658,     0.23727,     0.23796,     0.23969,     0.24072,     0.24157,     0.24419,     0.24537,     0.24825,     0.24934,     0.25219,\n",
       "            0.25368,     0.25449,     0.25489,     0.25529,     0.25569,     0.25609,     0.25648,     0.25681,     0.25714,     0.25747,      0.2578,     0.25813,     0.25846,      0.2599,     0.26142,     0.26233,     0.26327,     0.26459,     0.26604,     0.26777,     0.26932,     0.27441,     0.27924,\n",
       "            0.28081,     0.28208,     0.28331,     0.28447,     0.28562,     0.28646,     0.28727,     0.28808,     0.28942,     0.29123,     0.29167,     0.29209,      0.2925,     0.29292,     0.29334,     0.29375,     0.29417,     0.29462,     0.29506,     0.29551,     0.29595,      0.2964,     0.29684,\n",
       "             0.2994,     0.30264,     0.30599,     0.30677,     0.30744,     0.30811,     0.30879,     0.30985,     0.31198,     0.30606,     0.30891,     0.30977,     0.31064,      0.3115,     0.31213,     0.31262,     0.31311,     0.31359,     0.31408,     0.31457,     0.31505,     0.31694,     0.31933,\n",
       "            0.32132,     0.32347,     0.32578,     0.32509,     0.32432,     0.32354,     0.32277,       0.322,     0.32122,     0.32045,     0.31968,      0.3189,     0.31853,     0.32431,     0.32858,     0.33098,     0.33299,     0.33414,     0.33511,     0.33608,     0.33705,     0.33777,     0.33839,\n",
       "              0.339,     0.33961,     0.34023,     0.34084,     0.34146,     0.34247,     0.34348,      0.3445,     0.34552,     0.35005,      0.3503,     0.35056,     0.35081,     0.35106,     0.35132,     0.35157,     0.35183,     0.35208,     0.35234,     0.35259,     0.35285,      0.3531,     0.35336,\n",
       "            0.35361,     0.35387,     0.35412,     0.35438,     0.35751,     0.35991,      0.3614,     0.36289,     0.36383,     0.36421,      0.3646,     0.36498,     0.36537,     0.36576,     0.36614,     0.36653,     0.36691,      0.3673,     0.36768,     0.36807,     0.37335,     0.37362,     0.37389,\n",
       "            0.37416,     0.37443,      0.3747,     0.37497,     0.37525,     0.37552,     0.37579,     0.37606,     0.37633,      0.3766,     0.37687,     0.37714,     0.37742,     0.37769,     0.37796,     0.37823,     0.37903,     0.38049,     0.38195,      0.3834,     0.38641,     0.38292,     0.38121,\n",
       "            0.38503,     0.38779,     0.39033,     0.39156,     0.39198,     0.39239,     0.39281,     0.39322,     0.39364,     0.39405,     0.39447,     0.39488,      0.3953,     0.39572,     0.39613,     0.39655,     0.39696,     0.39966,     0.40299,     0.40349,     0.40398,     0.40447,     0.40497,\n",
       "            0.40546,     0.40595,     0.40645,     0.40694,     0.40743,     0.40793,     0.40842,     0.40891,     0.41035,     0.41232,     0.41428,     0.42199,     0.42274,     0.42348,     0.42423,     0.42497,     0.42572,     0.42646,     0.42721,     0.42795,     0.42874,     0.42978,     0.43081,\n",
       "            0.43185,     0.43289,     0.43392,     0.43496,     0.43601,     0.43709,     0.43816,     0.43924,     0.44031,     0.44139,     0.44246,     0.44398,     0.44558,     0.44719,     0.44879,     0.45019,     0.45099,     0.45179,     0.45258,     0.45338,     0.45418,     0.45497,     0.45577,\n",
       "            0.45657,     0.45736,     0.45794,      0.4584,     0.45886,     0.45932,     0.45978,     0.46024,      0.4607,     0.46116,     0.46163,     0.46209,     0.46255,     0.46301,     0.46347,     0.46393,     0.46439,     0.46485,     0.46532,     0.47389,     0.47485,     0.47582,     0.47679,\n",
       "            0.47776,     0.47872,     0.47969,     0.48066,     0.48163,     0.48347,     0.48632,     0.48917,     0.49113,     0.49168,     0.49224,     0.49279,     0.49335,     0.49391,     0.49446,     0.49502,     0.49558,     0.49613,     0.49669,     0.49724,      0.4978,     0.49836,     0.49891,\n",
       "            0.49947,     0.49997,      0.4994,     0.49882,     0.49825,     0.49767,      0.4971,     0.49652,     0.49594,     0.49537,     0.49479,     0.49422,     0.49364,     0.49306,     0.49249,     0.49191,     0.49134,     0.49076,     0.49993,     0.49922,     0.49851,      0.4978,     0.49708,\n",
       "            0.49637,     0.49566,     0.49495,     0.49424,     0.49352,     0.49281,      0.4921,     0.49139,     0.49068,      0.4907,     0.49224,     0.49378,     0.49533,     0.49687,     0.49842,     0.49996,     0.50024,     0.50048,     0.50072,     0.50097,     0.50121,     0.50145,     0.50169,\n",
       "            0.50194,     0.50218,     0.50242,     0.50267,     0.50291,     0.50315,      0.5034,     0.50364,     0.50388,     0.50412,     0.50437,     0.50461,     0.50485,      0.5051,     0.50534,     0.50558,     0.50583,     0.50607,     0.50631,     0.50655,      0.5068,     0.50704,     0.50728,\n",
       "            0.50753,     0.50777,     0.50801,     0.50826,      0.5085,     0.50874,     0.50898,     0.50923,     0.50947,     0.50971,     0.50996,      0.5102,      0.5109,     0.51162,     0.51233,     0.51304,     0.51375,     0.51447,     0.51518,     0.51589,      0.5166,     0.51732,     0.51803,\n",
       "            0.51874,     0.51945,     0.52017,     0.52088,     0.52164,      0.5224,     0.52316,     0.52392,     0.52468,     0.52544,      0.5262,     0.52695,     0.52771,     0.52847,     0.52923,     0.52999,     0.53075,     0.53151,     0.53234,     0.53324,     0.53415,     0.53505,     0.53596,\n",
       "            0.53686,     0.53777,     0.53867,     0.53958,     0.54049,     0.54139,      0.5423,      0.5432,      0.5439,      0.5445,     0.54511,     0.54572,     0.54632,     0.54693,     0.54753,     0.54814,     0.54874,     0.54935,     0.54995,     0.55056,     0.55117,     0.55177,     0.55238,\n",
       "            0.55298,     0.55359,     0.55419,      0.5548,      0.5554,     0.55643,     0.55759,     0.55875,     0.55991,     0.56107,     0.56223,     0.56339,     0.56455,     0.56571,     0.56687,     0.56803,     0.56938,     0.57076,     0.57214,     0.57351,     0.57489,     0.57627,     0.57765,\n",
       "            0.57903,      0.5804,     0.58194,     0.58387,     0.58581,     0.58775,     0.58968,     0.59162,     0.59356,     0.59553,     0.59777,         0.6,     0.60223,     0.60447,      0.6067,     0.60894,      0.6105,     0.61168,     0.61286,     0.61403,     0.61521,     0.61639,     0.61757,\n",
       "            0.61874,     0.61992,      0.6211,     0.62228,     0.62345,     0.62463,     0.61864,     0.61589,     0.61666,     0.61744,     0.61822,     0.61899,     0.61977,     0.62054,     0.62132,      0.6221,     0.62287,     0.62365,     0.62442,      0.6252,     0.62598,     0.62675,     0.62753,\n",
       "             0.6283,     0.62908,     0.62986,     0.63063,     0.63141,     0.63181,     0.63211,      0.6324,      0.6327,       0.633,     0.63329,     0.63359,     0.63389,     0.63418,     0.63448,     0.63478,     0.63508,     0.63537,     0.63567,     0.63597,     0.63626,     0.63656,     0.63686,\n",
       "            0.63715,     0.63745,     0.63775,     0.63804,     0.63834,     0.63864,     0.63893,     0.63923,     0.63953,     0.63982,     0.64012,     0.64042,     0.64071,     0.64101,     0.64131,      0.6416,      0.6419,      0.6422,      0.6425,     0.64279,     0.64309,     0.64339,     0.64368,\n",
       "            0.64398,     0.64428,     0.64457,     0.64487,     0.64517,     0.64546,     0.64576,     0.64606,     0.64635,     0.64665,     0.64695,     0.64724,     0.64754,     0.64784,     0.64813,     0.64843,     0.66426,     0.66641,     0.66614,     0.66588,     0.66561,     0.66534,     0.66508,\n",
       "            0.66481,     0.66454,     0.66428,     0.66401,     0.66374,     0.66348,     0.66321,     0.66294,     0.66268,     0.66241,     0.66214,     0.66188,     0.66161,     0.66134,     0.66108,     0.66081,     0.66054,     0.66028,     0.66001,     0.65974,     0.65948,     0.65921,     0.65895,\n",
       "            0.65868,     0.65841,     0.65815,     0.65788,     0.65761,     0.65735,     0.65961,     0.66985,     0.67872,      0.6851,     0.69148,     0.69666,     0.69442,     0.69218,     0.68994,      0.6877,     0.68813,     0.68882,     0.68951,      0.6902,      0.6909,     0.69159,     0.69228,\n",
       "            0.69297,     0.69366,     0.69435,     0.69504,     0.69573,     0.69643,     0.69712,     0.69781,      0.6985,     0.69919,     0.69988,     0.70057,     0.70126,     0.70196,     0.70265,     0.70334,     0.70403,     0.70472,     0.70541,      0.7061,      0.7068,     0.70749,     0.70818,\n",
       "            0.70887,     0.70956,     0.71114,     0.71291,     0.71467,     0.71644,     0.71821,     0.71997,     0.72174,      0.7235,     0.72527,     0.72703,      0.7288,     0.73056,     0.73233,     0.72695,      0.7485,     0.74425,     0.74095,     0.74217,      0.7434,     0.74462,     0.74584,\n",
       "            0.74706,     0.74829,     0.74951,     0.75073,     0.75195,     0.75317,      0.7544,     0.75562,     0.75684,     0.75806,     0.75929,     0.76051,     0.76173,     0.76295,     0.76418,      0.7654,     0.76662,     0.76784,     0.76907,      0.7668,     0.76399,     0.76117,     0.75905,\n",
       "            0.75742,      0.7558,     0.75417,     0.75254,     0.75091,     0.74961,     0.74871,     0.74782,     0.74692,     0.74603,     0.74514,     0.74424,     0.74335,     0.74245,     0.74156,     0.74067,     0.73977,     0.73952,     0.74089,     0.74225,     0.74362,     0.74499,     0.74636,\n",
       "            0.74773,     0.74909,     0.75046,     0.75183,      0.7532,     0.75457,     0.75593,      0.7573,     0.75867,     0.76004,     0.76141,     0.76277,     0.76414,     0.76551,     0.76688,     0.76825,     0.76961,     0.77098,     0.77235,     0.76301,     0.76435,     0.76701,     0.76968,\n",
       "            0.77234,     0.77501,     0.77767,     0.78034,       0.783,     0.78567,     0.78833,       0.791,     0.79366,     0.79632,     0.79899,     0.80707,     0.81846,     0.82986,     0.84125,     0.83756,     0.83206,     0.82309,     0.81672,      0.8121,     0.81091,     0.80972,     0.80853,\n",
       "            0.80734,     0.80615,     0.80496,     0.80377,     0.80258,     0.80139,     0.80019,     0.80852,     0.81871,      0.8289,     0.83909,     0.84929,     0.85608,     0.85143,     0.84678,      0.8488,     0.85185,      0.8549,     0.85796,     0.86101,     0.86407,     0.86712,     0.87017,\n",
       "            0.87323,     0.87628,     0.87934,     0.88239,     0.88544,      0.8885,     0.89155,     0.89461,     0.89766,     0.90071,     0.90377,     0.90682,     0.90987,     0.91293,     0.91598,     0.90739,     0.90394,     0.90049,     0.88853,     0.88715,     0.88577,     0.88439,     0.88301,\n",
       "            0.88163,     0.88025,     0.87887,     0.87749,      0.8761,     0.85736,      0.8015,     0.72681,     0.68703,     0.96461,           1]]), 'Confidence', 'Precision'], [array([          0,    0.001001,    0.002002,    0.003003,    0.004004,    0.005005,    0.006006,    0.007007,    0.008008,    0.009009,     0.01001,    0.011011,    0.012012,    0.013013,    0.014014,    0.015015,    0.016016,    0.017017,    0.018018,    0.019019,     0.02002,    0.021021,    0.022022,    0.023023,\n",
       "          0.024024,    0.025025,    0.026026,    0.027027,    0.028028,    0.029029,     0.03003,    0.031031,    0.032032,    0.033033,    0.034034,    0.035035,    0.036036,    0.037037,    0.038038,    0.039039,     0.04004,    0.041041,    0.042042,    0.043043,    0.044044,    0.045045,    0.046046,    0.047047,\n",
       "          0.048048,    0.049049,     0.05005,    0.051051,    0.052052,    0.053053,    0.054054,    0.055055,    0.056056,    0.057057,    0.058058,    0.059059,     0.06006,    0.061061,    0.062062,    0.063063,    0.064064,    0.065065,    0.066066,    0.067067,    0.068068,    0.069069,     0.07007,    0.071071,\n",
       "          0.072072,    0.073073,    0.074074,    0.075075,    0.076076,    0.077077,    0.078078,    0.079079,     0.08008,    0.081081,    0.082082,    0.083083,    0.084084,    0.085085,    0.086086,    0.087087,    0.088088,    0.089089,     0.09009,    0.091091,    0.092092,    0.093093,    0.094094,    0.095095,\n",
       "          0.096096,    0.097097,    0.098098,    0.099099,      0.1001,      0.1011,      0.1021,      0.1031,      0.1041,     0.10511,     0.10611,     0.10711,     0.10811,     0.10911,     0.11011,     0.11111,     0.11211,     0.11311,     0.11411,     0.11512,     0.11612,     0.11712,     0.11812,     0.11912,\n",
       "           0.12012,     0.12112,     0.12212,     0.12312,     0.12412,     0.12513,     0.12613,     0.12713,     0.12813,     0.12913,     0.13013,     0.13113,     0.13213,     0.13313,     0.13413,     0.13514,     0.13614,     0.13714,     0.13814,     0.13914,     0.14014,     0.14114,     0.14214,     0.14314,\n",
       "           0.14414,     0.14515,     0.14615,     0.14715,     0.14815,     0.14915,     0.15015,     0.15115,     0.15215,     0.15315,     0.15415,     0.15516,     0.15616,     0.15716,     0.15816,     0.15916,     0.16016,     0.16116,     0.16216,     0.16316,     0.16416,     0.16517,     0.16617,     0.16717,\n",
       "           0.16817,     0.16917,     0.17017,     0.17117,     0.17217,     0.17317,     0.17417,     0.17518,     0.17618,     0.17718,     0.17818,     0.17918,     0.18018,     0.18118,     0.18218,     0.18318,     0.18418,     0.18519,     0.18619,     0.18719,     0.18819,     0.18919,     0.19019,     0.19119,\n",
       "           0.19219,     0.19319,     0.19419,      0.1952,      0.1962,      0.1972,      0.1982,      0.1992,      0.2002,      0.2012,      0.2022,      0.2032,      0.2042,     0.20521,     0.20621,     0.20721,     0.20821,     0.20921,     0.21021,     0.21121,     0.21221,     0.21321,     0.21421,     0.21522,\n",
       "           0.21622,     0.21722,     0.21822,     0.21922,     0.22022,     0.22122,     0.22222,     0.22322,     0.22422,     0.22523,     0.22623,     0.22723,     0.22823,     0.22923,     0.23023,     0.23123,     0.23223,     0.23323,     0.23423,     0.23524,     0.23624,     0.23724,     0.23824,     0.23924,\n",
       "           0.24024,     0.24124,     0.24224,     0.24324,     0.24424,     0.24525,     0.24625,     0.24725,     0.24825,     0.24925,     0.25025,     0.25125,     0.25225,     0.25325,     0.25425,     0.25526,     0.25626,     0.25726,     0.25826,     0.25926,     0.26026,     0.26126,     0.26226,     0.26326,\n",
       "           0.26426,     0.26527,     0.26627,     0.26727,     0.26827,     0.26927,     0.27027,     0.27127,     0.27227,     0.27327,     0.27427,     0.27528,     0.27628,     0.27728,     0.27828,     0.27928,     0.28028,     0.28128,     0.28228,     0.28328,     0.28428,     0.28529,     0.28629,     0.28729,\n",
       "           0.28829,     0.28929,     0.29029,     0.29129,     0.29229,     0.29329,     0.29429,      0.2953,      0.2963,      0.2973,      0.2983,      0.2993,      0.3003,      0.3013,      0.3023,      0.3033,      0.3043,     0.30531,     0.30631,     0.30731,     0.30831,     0.30931,     0.31031,     0.31131,\n",
       "           0.31231,     0.31331,     0.31431,     0.31532,     0.31632,     0.31732,     0.31832,     0.31932,     0.32032,     0.32132,     0.32232,     0.32332,     0.32432,     0.32533,     0.32633,     0.32733,     0.32833,     0.32933,     0.33033,     0.33133,     0.33233,     0.33333,     0.33433,     0.33534,\n",
       "           0.33634,     0.33734,     0.33834,     0.33934,     0.34034,     0.34134,     0.34234,     0.34334,     0.34434,     0.34535,     0.34635,     0.34735,     0.34835,     0.34935,     0.35035,     0.35135,     0.35235,     0.35335,     0.35435,     0.35536,     0.35636,     0.35736,     0.35836,     0.35936,\n",
       "           0.36036,     0.36136,     0.36236,     0.36336,     0.36436,     0.36537,     0.36637,     0.36737,     0.36837,     0.36937,     0.37037,     0.37137,     0.37237,     0.37337,     0.37437,     0.37538,     0.37638,     0.37738,     0.37838,     0.37938,     0.38038,     0.38138,     0.38238,     0.38338,\n",
       "           0.38438,     0.38539,     0.38639,     0.38739,     0.38839,     0.38939,     0.39039,     0.39139,     0.39239,     0.39339,     0.39439,      0.3954,      0.3964,      0.3974,      0.3984,      0.3994,      0.4004,      0.4014,      0.4024,      0.4034,      0.4044,     0.40541,     0.40641,     0.40741,\n",
       "           0.40841,     0.40941,     0.41041,     0.41141,     0.41241,     0.41341,     0.41441,     0.41542,     0.41642,     0.41742,     0.41842,     0.41942,     0.42042,     0.42142,     0.42242,     0.42342,     0.42442,     0.42543,     0.42643,     0.42743,     0.42843,     0.42943,     0.43043,     0.43143,\n",
       "           0.43243,     0.43343,     0.43443,     0.43544,     0.43644,     0.43744,     0.43844,     0.43944,     0.44044,     0.44144,     0.44244,     0.44344,     0.44444,     0.44545,     0.44645,     0.44745,     0.44845,     0.44945,     0.45045,     0.45145,     0.45245,     0.45345,     0.45445,     0.45546,\n",
       "           0.45646,     0.45746,     0.45846,     0.45946,     0.46046,     0.46146,     0.46246,     0.46346,     0.46446,     0.46547,     0.46647,     0.46747,     0.46847,     0.46947,     0.47047,     0.47147,     0.47247,     0.47347,     0.47447,     0.47548,     0.47648,     0.47748,     0.47848,     0.47948,\n",
       "           0.48048,     0.48148,     0.48248,     0.48348,     0.48448,     0.48549,     0.48649,     0.48749,     0.48849,     0.48949,     0.49049,     0.49149,     0.49249,     0.49349,     0.49449,      0.4955,      0.4965,      0.4975,      0.4985,      0.4995,      0.5005,      0.5015,      0.5025,      0.5035,\n",
       "            0.5045,     0.50551,     0.50651,     0.50751,     0.50851,     0.50951,     0.51051,     0.51151,     0.51251,     0.51351,     0.51451,     0.51552,     0.51652,     0.51752,     0.51852,     0.51952,     0.52052,     0.52152,     0.52252,     0.52352,     0.52452,     0.52553,     0.52653,     0.52753,\n",
       "           0.52853,     0.52953,     0.53053,     0.53153,     0.53253,     0.53353,     0.53453,     0.53554,     0.53654,     0.53754,     0.53854,     0.53954,     0.54054,     0.54154,     0.54254,     0.54354,     0.54454,     0.54555,     0.54655,     0.54755,     0.54855,     0.54955,     0.55055,     0.55155,\n",
       "           0.55255,     0.55355,     0.55455,     0.55556,     0.55656,     0.55756,     0.55856,     0.55956,     0.56056,     0.56156,     0.56256,     0.56356,     0.56456,     0.56557,     0.56657,     0.56757,     0.56857,     0.56957,     0.57057,     0.57157,     0.57257,     0.57357,     0.57457,     0.57558,\n",
       "           0.57658,     0.57758,     0.57858,     0.57958,     0.58058,     0.58158,     0.58258,     0.58358,     0.58458,     0.58559,     0.58659,     0.58759,     0.58859,     0.58959,     0.59059,     0.59159,     0.59259,     0.59359,     0.59459,      0.5956,      0.5966,      0.5976,      0.5986,      0.5996,\n",
       "            0.6006,      0.6016,      0.6026,      0.6036,      0.6046,     0.60561,     0.60661,     0.60761,     0.60861,     0.60961,     0.61061,     0.61161,     0.61261,     0.61361,     0.61461,     0.61562,     0.61662,     0.61762,     0.61862,     0.61962,     0.62062,     0.62162,     0.62262,     0.62362,\n",
       "           0.62462,     0.62563,     0.62663,     0.62763,     0.62863,     0.62963,     0.63063,     0.63163,     0.63263,     0.63363,     0.63463,     0.63564,     0.63664,     0.63764,     0.63864,     0.63964,     0.64064,     0.64164,     0.64264,     0.64364,     0.64464,     0.64565,     0.64665,     0.64765,\n",
       "           0.64865,     0.64965,     0.65065,     0.65165,     0.65265,     0.65365,     0.65465,     0.65566,     0.65666,     0.65766,     0.65866,     0.65966,     0.66066,     0.66166,     0.66266,     0.66366,     0.66466,     0.66567,     0.66667,     0.66767,     0.66867,     0.66967,     0.67067,     0.67167,\n",
       "           0.67267,     0.67367,     0.67467,     0.67568,     0.67668,     0.67768,     0.67868,     0.67968,     0.68068,     0.68168,     0.68268,     0.68368,     0.68468,     0.68569,     0.68669,     0.68769,     0.68869,     0.68969,     0.69069,     0.69169,     0.69269,     0.69369,     0.69469,      0.6957,\n",
       "            0.6967,      0.6977,      0.6987,      0.6997,      0.7007,      0.7017,      0.7027,      0.7037,      0.7047,     0.70571,     0.70671,     0.70771,     0.70871,     0.70971,     0.71071,     0.71171,     0.71271,     0.71371,     0.71471,     0.71572,     0.71672,     0.71772,     0.71872,     0.71972,\n",
       "           0.72072,     0.72172,     0.72272,     0.72372,     0.72472,     0.72573,     0.72673,     0.72773,     0.72873,     0.72973,     0.73073,     0.73173,     0.73273,     0.73373,     0.73473,     0.73574,     0.73674,     0.73774,     0.73874,     0.73974,     0.74074,     0.74174,     0.74274,     0.74374,\n",
       "           0.74474,     0.74575,     0.74675,     0.74775,     0.74875,     0.74975,     0.75075,     0.75175,     0.75275,     0.75375,     0.75475,     0.75576,     0.75676,     0.75776,     0.75876,     0.75976,     0.76076,     0.76176,     0.76276,     0.76376,     0.76476,     0.76577,     0.76677,     0.76777,\n",
       "           0.76877,     0.76977,     0.77077,     0.77177,     0.77277,     0.77377,     0.77477,     0.77578,     0.77678,     0.77778,     0.77878,     0.77978,     0.78078,     0.78178,     0.78278,     0.78378,     0.78478,     0.78579,     0.78679,     0.78779,     0.78879,     0.78979,     0.79079,     0.79179,\n",
       "           0.79279,     0.79379,     0.79479,      0.7958,      0.7968,      0.7978,      0.7988,      0.7998,      0.8008,      0.8018,      0.8028,      0.8038,      0.8048,     0.80581,     0.80681,     0.80781,     0.80881,     0.80981,     0.81081,     0.81181,     0.81281,     0.81381,     0.81481,     0.81582,\n",
       "           0.81682,     0.81782,     0.81882,     0.81982,     0.82082,     0.82182,     0.82282,     0.82382,     0.82482,     0.82583,     0.82683,     0.82783,     0.82883,     0.82983,     0.83083,     0.83183,     0.83283,     0.83383,     0.83483,     0.83584,     0.83684,     0.83784,     0.83884,     0.83984,\n",
       "           0.84084,     0.84184,     0.84284,     0.84384,     0.84484,     0.84585,     0.84685,     0.84785,     0.84885,     0.84985,     0.85085,     0.85185,     0.85285,     0.85385,     0.85485,     0.85586,     0.85686,     0.85786,     0.85886,     0.85986,     0.86086,     0.86186,     0.86286,     0.86386,\n",
       "           0.86486,     0.86587,     0.86687,     0.86787,     0.86887,     0.86987,     0.87087,     0.87187,     0.87287,     0.87387,     0.87487,     0.87588,     0.87688,     0.87788,     0.87888,     0.87988,     0.88088,     0.88188,     0.88288,     0.88388,     0.88488,     0.88589,     0.88689,     0.88789,\n",
       "           0.88889,     0.88989,     0.89089,     0.89189,     0.89289,     0.89389,     0.89489,      0.8959,      0.8969,      0.8979,      0.8989,      0.8999,      0.9009,      0.9019,      0.9029,      0.9039,      0.9049,     0.90591,     0.90691,     0.90791,     0.90891,     0.90991,     0.91091,     0.91191,\n",
       "           0.91291,     0.91391,     0.91491,     0.91592,     0.91692,     0.91792,     0.91892,     0.91992,     0.92092,     0.92192,     0.92292,     0.92392,     0.92492,     0.92593,     0.92693,     0.92793,     0.92893,     0.92993,     0.93093,     0.93193,     0.93293,     0.93393,     0.93493,     0.93594,\n",
       "           0.93694,     0.93794,     0.93894,     0.93994,     0.94094,     0.94194,     0.94294,     0.94394,     0.94494,     0.94595,     0.94695,     0.94795,     0.94895,     0.94995,     0.95095,     0.95195,     0.95295,     0.95395,     0.95495,     0.95596,     0.95696,     0.95796,     0.95896,     0.95996,\n",
       "           0.96096,     0.96196,     0.96296,     0.96396,     0.96496,     0.96597,     0.96697,     0.96797,     0.96897,     0.96997,     0.97097,     0.97197,     0.97297,     0.97397,     0.97497,     0.97598,     0.97698,     0.97798,     0.97898,     0.97998,     0.98098,     0.98198,     0.98298,     0.98398,\n",
       "           0.98498,     0.98599,     0.98699,     0.98799,     0.98899,     0.98999,     0.99099,     0.99199,     0.99299,     0.99399,     0.99499,       0.996,       0.997,       0.998,       0.999,           1]), array([[          1,           1,           1,           1,     0.97222,     0.97222,     0.97222,     0.97222,     0.97222,     0.94444,     0.94444,     0.94444,     0.94444,     0.94444,     0.94444,     0.94444,     0.94444,     0.94444,     0.94444,     0.94444,     0.94444,     0.94444,     0.94444,\n",
       "            0.94444,     0.94444,     0.94444,     0.94444,     0.94444,     0.94444,     0.94444,     0.94444,     0.94444,     0.94444,     0.94444,     0.94444,     0.94444,     0.94444,     0.94444,     0.94444,     0.94444,     0.94444,     0.94444,     0.91667,     0.91667,     0.91667,     0.91667,\n",
       "            0.91667,     0.91667,     0.91667,     0.89485,     0.88889,     0.88889,     0.88889,     0.88889,     0.88889,     0.88889,     0.88889,     0.88889,     0.88889,     0.88889,     0.88889,     0.88889,     0.88889,     0.88889,     0.88889,     0.88889,     0.88889,     0.88889,     0.88889,\n",
       "            0.86111,     0.86111,     0.86111,     0.86111,     0.86111,     0.86111,     0.86111,     0.86111,     0.86111,     0.86111,     0.86111,     0.86111,     0.86111,     0.86111,     0.86111,     0.86111,     0.86111,     0.86111,     0.86111,     0.86111,     0.86111,     0.86111,     0.86111,\n",
       "            0.86111,     0.86111,     0.86111,     0.86111,     0.86111,     0.86111,     0.86111,     0.86111,     0.86111,     0.86111,     0.86111,     0.86111,     0.86111,     0.86111,     0.86111,     0.86111,     0.86111,     0.86111,     0.86111,     0.86111,     0.86111,     0.86111,     0.86111,\n",
       "            0.86111,     0.86111,     0.86111,     0.86111,     0.86111,     0.86111,     0.86111,     0.86111,     0.86111,     0.86111,     0.86111,     0.86111,     0.86111,     0.86111,     0.86111,     0.86111,     0.86111,     0.86111,     0.86111,     0.86111,     0.86111,     0.86111,     0.86111,\n",
       "            0.86111,     0.86111,     0.86111,     0.86111,     0.86111,     0.86111,     0.86111,     0.86111,     0.86111,     0.86111,     0.86111,     0.86111,     0.86111,     0.86111,     0.86111,     0.86111,     0.86111,     0.86111,     0.86111,     0.86111,     0.86111,     0.86111,     0.86111,\n",
       "            0.86111,     0.86111,     0.86111,     0.83333,     0.83333,     0.83333,     0.83333,     0.83333,     0.83333,     0.83333,     0.83333,     0.83333,     0.83333,     0.83333,     0.83333,     0.83333,     0.83333,     0.83333,     0.83333,     0.83333,     0.83333,     0.83333,     0.83333,\n",
       "            0.83333,     0.83333,     0.83333,     0.83333,     0.83333,     0.83333,     0.83333,     0.83333,     0.83333,     0.83333,     0.83333,     0.83333,     0.83333,     0.83333,     0.83333,     0.83333,     0.83333,     0.83333,     0.83333,     0.83333,     0.83333,     0.83333,     0.83333,\n",
       "            0.83333,     0.83333,     0.83333,     0.83333,     0.83333,     0.83333,     0.83333,     0.83333,     0.83333,     0.83333,     0.83333,     0.83333,     0.83333,     0.83333,     0.83333,     0.83333,     0.83333,     0.83333,     0.83333,     0.83333,     0.83333,     0.83333,     0.83333,\n",
       "            0.83333,     0.83333,     0.83333,     0.83333,     0.83333,     0.83333,     0.83333,     0.83333,     0.83333,     0.83333,     0.83333,     0.83333,     0.83333,     0.83333,     0.83333,     0.83333,     0.83333,     0.83333,     0.83333,     0.83333,     0.83333,     0.83333,     0.83333,\n",
       "            0.83333,     0.83333,     0.83333,     0.83333,     0.83333,     0.83333,     0.83333,     0.83333,     0.83333,     0.80556,     0.80556,     0.80556,     0.80556,     0.80556,     0.80556,     0.80556,     0.80556,     0.80556,     0.80556,     0.80556,     0.80556,     0.80556,     0.80556,\n",
       "            0.80556,     0.80556,     0.80556,     0.80283,     0.80003,     0.79722,     0.79442,     0.79161,     0.78881,       0.786,      0.7832,     0.78039,     0.77778,     0.77778,     0.77778,     0.77778,     0.77778,     0.77778,     0.77778,     0.77778,     0.77778,     0.77778,     0.77778,\n",
       "            0.77778,     0.77778,     0.77778,     0.77778,     0.77778,     0.77778,     0.77778,     0.77778,     0.77778,     0.77778,     0.77778,     0.77778,     0.77778,     0.77778,     0.77778,     0.77778,     0.77778,     0.77778,     0.77778,     0.77778,     0.77778,     0.77778,     0.77778,\n",
       "            0.77778,     0.77778,     0.77778,     0.77778,     0.77778,     0.77778,     0.77778,     0.77778,     0.77778,     0.77778,     0.77778,     0.77778,     0.77778,     0.77778,     0.77778,     0.77778,     0.77778,     0.77778,     0.77778,     0.77778,     0.77778,     0.77778,     0.77778,\n",
       "            0.77778,     0.77778,     0.77778,     0.77778,     0.77778,     0.77778,     0.77778,     0.77778,     0.77778,     0.77778,     0.77778,     0.77778,     0.77778,     0.77778,     0.77778,     0.77778,     0.77778,     0.77778,     0.77778,     0.77778,     0.76977,     0.75851,        0.75,\n",
       "               0.75,        0.75,        0.75,        0.75,        0.75,        0.75,        0.75,        0.75,        0.75,        0.75,        0.75,        0.75,        0.75,        0.75,        0.75,        0.75,        0.75,        0.75,        0.75,        0.75,        0.75,        0.75,        0.75,\n",
       "               0.75,        0.75,        0.75,        0.75,        0.75,        0.75,        0.75,        0.75,        0.75,        0.75,        0.75,        0.75,        0.75,        0.75,        0.75,        0.75,        0.75,        0.75,        0.75,        0.75,        0.75,        0.75,        0.75,\n",
       "               0.75,        0.75,        0.75,        0.75,        0.75,        0.75,        0.75,        0.75,        0.75,        0.75,        0.75,        0.75,        0.75,        0.75,        0.75,        0.75,        0.75,        0.75,        0.75,        0.75,        0.75,        0.75,        0.75,\n",
       "               0.75,        0.75,        0.75,        0.75,        0.75,        0.75,        0.75,        0.75,        0.75,        0.75,        0.75,        0.75,        0.75,        0.75,        0.75,        0.75,        0.75,        0.75,        0.75,        0.75,        0.75,        0.75,        0.75,\n",
       "               0.75,        0.75,        0.75,        0.75,        0.75,        0.75,        0.75,        0.75,        0.75,        0.75,        0.75,        0.75,        0.75,        0.75,        0.75,        0.75,        0.75,        0.75,        0.75,        0.75,        0.75,        0.75,        0.75,\n",
       "               0.75,     0.74992,     0.74823,     0.74653,     0.74484,     0.74314,     0.74145,     0.73975,     0.73806,     0.73636,     0.73467,     0.73297,     0.73127,     0.72958,     0.72788,     0.72619,     0.72449,      0.7228,     0.72203,     0.72001,       0.718,     0.71598,     0.71396,\n",
       "            0.71194,     0.70993,     0.70791,     0.70589,     0.70387,     0.70186,     0.69984,     0.69782,     0.69581,     0.69444,     0.69444,     0.69444,     0.69444,     0.69444,     0.69444,     0.69444,     0.69444,     0.69444,     0.69444,     0.69444,     0.69444,     0.69444,     0.69444,\n",
       "            0.69444,     0.69444,     0.69444,     0.69444,     0.69444,     0.69444,     0.69444,     0.69444,     0.69444,     0.69444,     0.69444,     0.69444,     0.69444,     0.69444,     0.69444,     0.69444,     0.69444,     0.69444,     0.69444,     0.69444,     0.69444,     0.69444,     0.69444,\n",
       "            0.69444,     0.69444,     0.69444,     0.69444,     0.69444,     0.69444,     0.69444,     0.69444,     0.69444,     0.69444,     0.69444,     0.69444,     0.69444,     0.69444,     0.69444,     0.69444,     0.69444,     0.69444,     0.69444,     0.69444,     0.69444,     0.69444,     0.69444,\n",
       "            0.69444,     0.69444,     0.69444,     0.69444,     0.69444,     0.69444,     0.69444,     0.69444,     0.69444,     0.69444,     0.69444,     0.69444,     0.69444,     0.69444,     0.69444,     0.69444,     0.69444,     0.69444,     0.69444,     0.69444,     0.69444,     0.69444,     0.69444,\n",
       "            0.69444,     0.69444,     0.69444,     0.69444,     0.69444,     0.69444,     0.69444,     0.69444,     0.69444,     0.69444,     0.69444,     0.69444,     0.69444,     0.69444,     0.69444,     0.69444,     0.69444,     0.69444,     0.69444,     0.69444,     0.69444,     0.69444,     0.69444,\n",
       "            0.69444,     0.69444,     0.69444,     0.69444,     0.69444,     0.69444,     0.69444,     0.69444,     0.69444,     0.69444,     0.69444,     0.69444,     0.69444,     0.69444,     0.69444,     0.69444,     0.69444,     0.69444,     0.69444,     0.69444,     0.69444,     0.69444,     0.69444,\n",
       "            0.69444,     0.69444,     0.69444,     0.69444,     0.69444,     0.69444,     0.69444,     0.69444,     0.69444,     0.69444,     0.69444,     0.69444,     0.69444,     0.69444,     0.69444,     0.69444,     0.69444,     0.69444,     0.69444,     0.69444,     0.69444,     0.69444,     0.69444,\n",
       "            0.69444,     0.69444,     0.69444,     0.69444,     0.69444,     0.69444,     0.67608,     0.66667,     0.66667,     0.66667,     0.66667,     0.66667,     0.66667,     0.66667,     0.66667,     0.66667,     0.66667,     0.66667,     0.66667,     0.66667,     0.66667,     0.66667,     0.66667,\n",
       "            0.66667,     0.66667,     0.66667,     0.66667,     0.66667,     0.66667,     0.66667,     0.66667,     0.66667,     0.66667,     0.66667,     0.66667,     0.66667,     0.66667,     0.66667,     0.66667,     0.66667,     0.66667,     0.66667,     0.66667,     0.66667,     0.66667,     0.66667,\n",
       "            0.66667,     0.66667,     0.66667,     0.66667,     0.66667,     0.66667,     0.66667,     0.66667,     0.66667,     0.66667,     0.66667,     0.66667,     0.66667,     0.66667,     0.66667,     0.66667,     0.66667,     0.66667,     0.66667,     0.66667,     0.66667,     0.66667,     0.66667,\n",
       "            0.66667,     0.66667,     0.66667,     0.66667,     0.66667,     0.66667,     0.66667,     0.66667,     0.66667,     0.66667,     0.66667,     0.66667,     0.66667,     0.66667,     0.66667,     0.66667,     0.66667,     0.66592,     0.66514,     0.66437,     0.66359,     0.66281,     0.66203,\n",
       "            0.66125,     0.66048,      0.6597,     0.65892,     0.65814,     0.65737,     0.65659,     0.65581,     0.65503,     0.65426,     0.65348,      0.6527,     0.65192,     0.65114,     0.65037,     0.64959,     0.64881,     0.64803,     0.64726,     0.64648,      0.6457,     0.64492,     0.64415,\n",
       "            0.64337,     0.64259,     0.64181,     0.64103,     0.64026,     0.63948,     0.63889,     0.63889,     0.63889,     0.63889,     0.63889,     0.63798,     0.63141,     0.62483,     0.61826,     0.61169,     0.61111,     0.61111,     0.61111,     0.61111,     0.61111,     0.61111,     0.61111,\n",
       "            0.61111,     0.61111,     0.61111,     0.61111,     0.61111,     0.61111,     0.61111,     0.61111,     0.61111,     0.61111,     0.61111,     0.61111,     0.61111,     0.61111,     0.61111,     0.61111,     0.61111,     0.61111,     0.61111,     0.61111,     0.61111,     0.61111,     0.61111,\n",
       "            0.61111,     0.61111,     0.61111,     0.61111,     0.61111,     0.61111,     0.61111,     0.61111,     0.61111,     0.61111,     0.61111,     0.61111,     0.61111,     0.61111,     0.61111,     0.58333,     0.57882,     0.56609,     0.55556,     0.55556,     0.55556,     0.55556,     0.55556,\n",
       "            0.55556,     0.55556,     0.55556,     0.55556,     0.55556,     0.55556,     0.55556,     0.55556,     0.55556,     0.55556,     0.55556,     0.55556,     0.55556,     0.55556,     0.55556,     0.55556,     0.55556,     0.55556,     0.55556,     0.54824,     0.53978,     0.53131,     0.52514,\n",
       "            0.52062,      0.5161,     0.51158,     0.50705,     0.50253,     0.49899,     0.49671,     0.49442,     0.49214,     0.48985,     0.48757,     0.48528,       0.483,     0.48071,     0.47843,     0.47614,     0.47386,     0.47222,     0.47222,     0.47222,     0.47222,     0.47222,     0.47222,\n",
       "            0.47222,     0.47222,     0.47222,     0.47222,     0.47222,     0.47222,     0.47222,     0.47222,     0.47222,     0.47222,     0.47222,     0.47222,     0.47222,     0.47222,     0.47222,     0.47222,     0.47222,     0.47222,     0.47222,     0.44728,     0.44444,     0.44444,     0.44444,\n",
       "            0.44444,     0.44444,     0.44444,     0.44444,     0.44444,     0.44444,     0.44444,     0.44444,     0.44444,     0.44444,     0.44444,     0.44444,     0.44444,     0.44444,     0.44444,     0.43006,     0.41305,     0.38777,     0.37174,     0.36022,     0.35757,     0.35493,     0.35228,\n",
       "            0.34964,     0.34699,     0.34435,      0.3417,     0.33906,     0.33641,     0.33377,     0.33333,     0.33333,     0.33333,     0.33333,     0.33333,     0.33064,     0.31889,     0.30714,     0.30556,     0.30556,     0.30556,     0.30556,     0.30556,     0.30556,     0.30556,     0.30556,\n",
       "            0.30556,     0.30556,     0.30556,     0.30556,     0.30556,     0.30556,     0.30556,     0.30556,     0.30556,     0.30556,     0.30556,     0.30556,     0.30556,     0.30556,     0.30556,     0.27257,     0.26203,      0.2515,      0.2215,     0.21874,     0.21598,     0.21322,     0.21046,\n",
       "             0.2077,     0.20494,     0.20218,     0.19942,     0.19665,     0.16701,     0.11236,    0.075602,    0.055556,    0.055556,           0]]), 'Confidence', 'Recall']]\n",
       "fitness: np.float64(0.5088689748965143)\n",
       "keys: ['metrics/precision(B)', 'metrics/recall(B)', 'metrics/mAP50(B)', 'metrics/mAP50-95(B)']\n",
       "maps: array([    0.49272])\n",
       "names: {0: 'pen'}\n",
       "plot: True\n",
       "results_dict: {'metrics/precision(B)': np.float64(0.6914774942532562), 'metrics/recall(B)': np.float64(0.6388888888888888), 'metrics/mAP50(B)': np.float64(0.654167210344804), 'metrics/mAP50-95(B)': np.float64(0.492724726513371), 'fitness': np.float64(0.5088689748965143)}\n",
       "save_dir: WindowsPath('runs/detect/train2')\n",
       "speed: {'preprocess': 6.353436842274325, 'inference': 1278.879068420984, 'loss': 0.0002578945943816124, 'postprocess': 5.842173684198459}\n",
       "task: 'detect'"
      ]
     },
     "execution_count": 7,
     "metadata": {},
     "output_type": "execute_result"
    }
   ],
   "source": [
    "from ultralytics import YOLO\n",
    "\n",
    "\n",
    "model = YOLO('yolov8s.pt')\n",
    "model.train(data = 'H:\\obdt\\pen-dataset\\data.yaml',\n",
    "           epochs = 20,\n",
    "           imgsz= 640,\n",
    "           batch = 8)\n",
    "\n",
    "        "
   ]
  },
  {
   "cell_type": "code",
   "execution_count": 17,
   "id": "e2d927c8-4365-437b-967c-c070c4cad14d",
   "metadata": {},
   "outputs": [],
   "source": [
    "model = YOLO('runs\\\\detect\\\\train2\\\\weights\\\\best.pt')"
   ]
  },
  {
   "cell_type": "code",
   "execution_count": 18,
   "id": "aefb4caa-77b7-44e0-b14a-aae79f713504",
   "metadata": {},
   "outputs": [
    {
     "name": "stdout",
     "output_type": "stream",
     "text": [
      "\n",
      "image 1/7 H:\\obdt\\pen-dataset\\test\\images\\20250510_200834_jpg.rf.cd979069919e5f29d49cde9704ced700.jpg: 640x640 2 pens, 1221.1ms\n",
      "image 2/7 H:\\obdt\\pen-dataset\\test\\images\\20250510_200843_jpg.rf.e8873d52d49cf829fd5240b804b6d00e.jpg: 640x640 1 pen, 1117.6ms\n",
      "image 3/7 H:\\obdt\\pen-dataset\\test\\images\\20250510_201043_jpg.rf.974d2b67e765c6e786210e5e39a35bab.jpg: 640x640 (no detections), 1077.5ms\n",
      "image 4/7 H:\\obdt\\pen-dataset\\test\\images\\20250510_201055_jpg.rf.089945b6ef047dadd21bb1899e0f3712.jpg: 640x640 35 pens, 1166.1ms\n",
      "image 5/7 H:\\obdt\\pen-dataset\\test\\images\\20250510_201118_jpg.rf.0cec28e5cae39aff144e59b7ca763829.jpg: 640x640 8 pens, 1145.9ms\n",
      "image 6/7 H:\\obdt\\pen-dataset\\test\\images\\20250510_201124_jpg.rf.81bb5e84bdf6d71de875cc430eaa02c0.jpg: 640x640 11 pens, 1363.2ms\n",
      "image 7/7 H:\\obdt\\pen-dataset\\test\\images\\20250510_201211_jpg.rf.6b12a5218391eca54d0eb08305143b31.jpg: 640x640 26 pens, 1192.0ms\n",
      "Speed: 13.3ms preprocess, 1183.3ms inference, 2.0ms postprocess per image at shape (1, 3, 640, 640)\n",
      "Results saved to \u001b[1mruns\\detect\\predict2\u001b[0m\n"
     ]
    }
   ],
   "source": [
    "results = model('H:\\\\obdt\\\\pen-dataset\\\\test\\\\images', save = True)"
   ]
  },
  {
   "cell_type": "code",
   "execution_count": 19,
   "id": "4a6b88a6-e9fd-40f6-a518-c675c06a1cd4",
   "metadata": {},
   "outputs": [
    {
     "name": "stdout",
     "output_type": "stream",
     "text": [
      "\n",
      "image 1/7 H:\\obdt\\pen-dataset\\test\\images\\20250510_200834_jpg.rf.cd979069919e5f29d49cde9704ced700.jpg: 640x640 1 pen, 1209.1ms\n",
      "image 2/7 H:\\obdt\\pen-dataset\\test\\images\\20250510_200843_jpg.rf.e8873d52d49cf829fd5240b804b6d00e.jpg: 640x640 1 pen, 1065.3ms\n",
      "image 3/7 H:\\obdt\\pen-dataset\\test\\images\\20250510_201043_jpg.rf.974d2b67e765c6e786210e5e39a35bab.jpg: 640x640 (no detections), 1073.6ms\n",
      "image 4/7 H:\\obdt\\pen-dataset\\test\\images\\20250510_201055_jpg.rf.089945b6ef047dadd21bb1899e0f3712.jpg: 640x640 14 pens, 1071.6ms\n",
      "image 5/7 H:\\obdt\\pen-dataset\\test\\images\\20250510_201118_jpg.rf.0cec28e5cae39aff144e59b7ca763829.jpg: 640x640 4 pens, 1083.8ms\n",
      "image 6/7 H:\\obdt\\pen-dataset\\test\\images\\20250510_201124_jpg.rf.81bb5e84bdf6d71de875cc430eaa02c0.jpg: 640x640 4 pens, 1075.9ms\n",
      "image 7/7 H:\\obdt\\pen-dataset\\test\\images\\20250510_201211_jpg.rf.6b12a5218391eca54d0eb08305143b31.jpg: 640x640 8 pens, 1096.6ms\n",
      "Speed: 8.6ms preprocess, 1096.6ms inference, 1.8ms postprocess per image at shape (1, 3, 640, 640)\n",
      "Results saved to \u001b[1mruns\\detect\\predict2\u001b[0m\n"
     ]
    }
   ],
   "source": [
    "results = model('H:\\\\obdt\\\\pen-dataset\\\\test\\\\images', conf = 0.5, iou = 0.5, save = True)"
   ]
  },
  {
   "cell_type": "code",
   "execution_count": 20,
   "id": "8419d91e-b97a-49a7-856e-8e0a9fce150f",
   "metadata": {},
   "outputs": [],
   "source": [
    "model = YOLO('yolov8s.pt')"
   ]
  },
  {
   "cell_type": "code",
   "execution_count": 21,
   "id": "221c8c84-b7c0-46ca-b720-bf9bf7f64fe2",
   "metadata": {},
   "outputs": [
    {
     "name": "stdout",
     "output_type": "stream",
     "text": [
      "\n",
      "image 1/7 H:\\obdt\\pen-dataset\\test\\images\\20250510_200834_jpg.rf.cd979069919e5f29d49cde9704ced700.jpg: 640x640 1 baseball bat, 1197.1ms\n",
      "image 2/7 H:\\obdt\\pen-dataset\\test\\images\\20250510_200843_jpg.rf.e8873d52d49cf829fd5240b804b6d00e.jpg: 640x640 1 baseball bat, 1152.6ms\n",
      "image 3/7 H:\\obdt\\pen-dataset\\test\\images\\20250510_201043_jpg.rf.974d2b67e765c6e786210e5e39a35bab.jpg: 640x640 (no detections), 1089.7ms\n",
      "image 4/7 H:\\obdt\\pen-dataset\\test\\images\\20250510_201055_jpg.rf.089945b6ef047dadd21bb1899e0f3712.jpg: 640x640 (no detections), 1090.8ms\n",
      "image 5/7 H:\\obdt\\pen-dataset\\test\\images\\20250510_201118_jpg.rf.0cec28e5cae39aff144e59b7ca763829.jpg: 640x640 (no detections), 1085.8ms\n",
      "image 6/7 H:\\obdt\\pen-dataset\\test\\images\\20250510_201124_jpg.rf.81bb5e84bdf6d71de875cc430eaa02c0.jpg: 640x640 1 surfboard, 1092.6ms\n",
      "image 7/7 H:\\obdt\\pen-dataset\\test\\images\\20250510_201211_jpg.rf.6b12a5218391eca54d0eb08305143b31.jpg: 640x640 (no detections), 1094.4ms\n",
      "Speed: 8.4ms preprocess, 1114.7ms inference, 3.7ms postprocess per image at shape (1, 3, 640, 640)\n",
      "Results saved to \u001b[1mruns\\detect\\predict3\u001b[0m\n"
     ]
    }
   ],
   "source": [
    "results = model('H:\\\\obdt\\\\pen-dataset\\\\test\\\\images', conf = 0.5, iou = 0.5, save = True)"
   ]
  },
  {
   "cell_type": "code",
   "execution_count": 1,
   "id": "cbeb556c-ca18-4e73-90f8-f077fe62d072",
   "metadata": {},
   "outputs": [
    {
     "name": "stderr",
     "output_type": "stream",
     "text": [
      "Matplotlib is building the font cache; this may take a moment.\n"
     ]
    },
    {
     "name": "stdout",
     "output_type": "stream",
     "text": [
      "Creating new Ultralytics Settings v0.0.6 file  \n",
      "View Ultralytics Settings with 'yolo settings' or at 'C:\\Users\\TEMP.DESKTOP-DQOQJ3V\\AppData\\Roaming\\Ultralytics\\settings.json'\n",
      "Update Settings with 'yolo settings key=value', i.e. 'yolo settings runs_dir=path/to/dir'. For help see https://docs.ultralytics.com/quickstart/#ultralytics-settings.\n"
     ]
    }
   ],
   "source": [
    "from ultralytics import YOLO"
   ]
  },
  {
   "cell_type": "code",
   "execution_count": 2,
   "id": "62de77bd-9836-4c53-ae08-62ae60116eab",
   "metadata": {},
   "outputs": [],
   "source": [
    "model = YOLO('runs/detect/train/weights/best.pt')"
   ]
  },
  {
   "cell_type": "code",
   "execution_count": 3,
   "id": "4551e0f6-e70b-4fbd-a008-fc3d3a8f0912",
   "metadata": {},
   "outputs": [
    {
     "name": "stdout",
     "output_type": "stream",
     "text": [
      "\n",
      "image 1/7 H:\\obdt\\pen-dataset\\test\\images\\20250510_200834_jpg.rf.cd979069919e5f29d49cde9704ced700.jpg: 640x640 8 pens, 1399.1ms\n",
      "image 2/7 H:\\obdt\\pen-dataset\\test\\images\\20250510_200843_jpg.rf.e8873d52d49cf829fd5240b804b6d00e.jpg: 640x640 7 pens, 1069.5ms\n",
      "image 3/7 H:\\obdt\\pen-dataset\\test\\images\\20250510_201043_jpg.rf.974d2b67e765c6e786210e5e39a35bab.jpg: 640x640 8 pens, 1090.5ms\n",
      "image 4/7 H:\\obdt\\pen-dataset\\test\\images\\20250510_201055_jpg.rf.089945b6ef047dadd21bb1899e0f3712.jpg: 640x640 1 pen, 1099.8ms\n",
      "image 5/7 H:\\obdt\\pen-dataset\\test\\images\\20250510_201118_jpg.rf.0cec28e5cae39aff144e59b7ca763829.jpg: 640x640 3 pens, 1090.6ms\n",
      "image 6/7 H:\\obdt\\pen-dataset\\test\\images\\20250510_201124_jpg.rf.81bb5e84bdf6d71de875cc430eaa02c0.jpg: 640x640 5 pens, 1111.4ms\n",
      "image 7/7 H:\\obdt\\pen-dataset\\test\\images\\20250510_201211_jpg.rf.6b12a5218391eca54d0eb08305143b31.jpg: 640x640 11 pens, 1090.7ms\n",
      "Speed: 14.3ms preprocess, 1135.9ms inference, 2.7ms postprocess per image at shape (1, 3, 640, 640)\n"
     ]
    }
   ],
   "source": [
    "results = model('H:\\\\obdt\\\\pen-dataset\\\\test\\\\images', conf = 0.5, iou = 0.5, show = True)"
   ]
  },
  {
   "cell_type": "code",
   "execution_count": 2,
   "id": "eb8f2fee-5966-41d3-bb07-d814bdfc7232",
   "metadata": {},
   "outputs": [],
   "source": [
    "from ultralytics import YOLO\n",
    "import cv2 as cv"
   ]
  },
  {
   "cell_type": "code",
   "execution_count": 5,
   "id": "e9e1ecdf-5ba1-4603-a518-e3ab4be31e0e",
   "metadata": {},
   "outputs": [],
   "source": [
    "model = YOLO('runs/detect/train/weights/best.pt')\n",
    "cap = cv.VideoCapture(1)\n",
    "while True:\n",
    "    r, frame = cap.read()\n",
    "    if r == True:\n",
    "        results = model(source=frame, conf=0.5,show=True, verbose=False)\n",
    "        if cv.waitKey(1) & 0xff == ord('z'):\n",
    "            break\n",
    "    else:\n",
    "        break\n",
    "\n",
    "cap.release()\n",
    "cv.destroyAllWindows()"
   ]
  }
 ],
 "metadata": {
  "kernelspec": {
   "display_name": "Python 3 (ipykernel)",
   "language": "python",
   "name": "python3"
  },
  "language_info": {
   "codemirror_mode": {
    "name": "ipython",
    "version": 3
   },
   "file_extension": ".py",
   "mimetype": "text/x-python",
   "name": "python",
   "nbconvert_exporter": "python",
   "pygments_lexer": "ipython3",
   "version": "3.13.2"
  }
 },
 "nbformat": 4,
 "nbformat_minor": 5
}
